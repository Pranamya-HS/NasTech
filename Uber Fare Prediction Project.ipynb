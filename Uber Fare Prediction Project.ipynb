{
 "cells": [
  {
   "cell_type": "code",
   "execution_count": 67,
   "id": "99e990c3",
   "metadata": {},
   "outputs": [
    {
     "name": "stdout",
     "output_type": "stream",
     "text": [
      "Libraries Import Successfully\n"
     ]
    }
   ],
   "source": [
    "import numpy as np\n",
    "import pandas as pd\n",
    "import seaborn as sns\n",
    "import matplotlib.pyplot as plt\n",
    "plt.style.use('fivethirtyeight')\n",
    "%matplotlib inline\n",
    "import warnings \n",
    "warnings.filterwarnings(\"ignore\")\n",
    "print(\"Libraries Import Successfully\")"
   ]
  },
  {
   "cell_type": "markdown",
   "id": "f01020a1",
   "metadata": {},
   "source": [
    "# Importing of dataset\n",
    "\n",
    "* We are taking the train dataset from Uber fare prediction\n",
    "* We have downloaded a dataset from Kaggle.com for New York taxi fare prediction\n",
    "* We will store this dataset in the variable **df** and will perform the functions through the same "
   ]
  },
  {
   "cell_type": "code",
   "execution_count": 68,
   "id": "d5c3040f",
   "metadata": {},
   "outputs": [
    {
     "data": {
      "text/html": [
       "<div>\n",
       "<style scoped>\n",
       "    .dataframe tbody tr th:only-of-type {\n",
       "        vertical-align: middle;\n",
       "    }\n",
       "\n",
       "    .dataframe tbody tr th {\n",
       "        vertical-align: top;\n",
       "    }\n",
       "\n",
       "    .dataframe thead th {\n",
       "        text-align: right;\n",
       "    }\n",
       "</style>\n",
       "<table border=\"1\" class=\"dataframe\">\n",
       "  <thead>\n",
       "    <tr style=\"text-align: right;\">\n",
       "      <th></th>\n",
       "      <th>trip_duration</th>\n",
       "      <th>distance_traveled</th>\n",
       "      <th>num_of_passengers</th>\n",
       "      <th>fare</th>\n",
       "      <th>tip</th>\n",
       "      <th>miscellaneous_fees</th>\n",
       "      <th>total_fare</th>\n",
       "      <th>surge_applied</th>\n",
       "    </tr>\n",
       "  </thead>\n",
       "  <tbody>\n",
       "    <tr>\n",
       "      <th>0</th>\n",
       "      <td>748.0</td>\n",
       "      <td>2.75</td>\n",
       "      <td>1.0</td>\n",
       "      <td>75.00</td>\n",
       "      <td>24</td>\n",
       "      <td>6.300</td>\n",
       "      <td>105.300</td>\n",
       "      <td>0</td>\n",
       "    </tr>\n",
       "    <tr>\n",
       "      <th>1</th>\n",
       "      <td>1187.0</td>\n",
       "      <td>3.43</td>\n",
       "      <td>1.0</td>\n",
       "      <td>105.00</td>\n",
       "      <td>24</td>\n",
       "      <td>13.200</td>\n",
       "      <td>142.200</td>\n",
       "      <td>0</td>\n",
       "    </tr>\n",
       "    <tr>\n",
       "      <th>2</th>\n",
       "      <td>730.0</td>\n",
       "      <td>3.12</td>\n",
       "      <td>1.0</td>\n",
       "      <td>71.25</td>\n",
       "      <td>0</td>\n",
       "      <td>26.625</td>\n",
       "      <td>97.875</td>\n",
       "      <td>1</td>\n",
       "    </tr>\n",
       "    <tr>\n",
       "      <th>3</th>\n",
       "      <td>671.0</td>\n",
       "      <td>5.63</td>\n",
       "      <td>3.0</td>\n",
       "      <td>90.00</td>\n",
       "      <td>0</td>\n",
       "      <td>9.750</td>\n",
       "      <td>99.750</td>\n",
       "      <td>0</td>\n",
       "    </tr>\n",
       "    <tr>\n",
       "      <th>4</th>\n",
       "      <td>329.0</td>\n",
       "      <td>2.09</td>\n",
       "      <td>1.0</td>\n",
       "      <td>45.00</td>\n",
       "      <td>12</td>\n",
       "      <td>13.200</td>\n",
       "      <td>70.200</td>\n",
       "      <td>0</td>\n",
       "    </tr>\n",
       "    <tr>\n",
       "      <th>...</th>\n",
       "      <td>...</td>\n",
       "      <td>...</td>\n",
       "      <td>...</td>\n",
       "      <td>...</td>\n",
       "      <td>...</td>\n",
       "      <td>...</td>\n",
       "      <td>...</td>\n",
       "      <td>...</td>\n",
       "    </tr>\n",
       "    <tr>\n",
       "      <th>209668</th>\n",
       "      <td>1617.0</td>\n",
       "      <td>8.42</td>\n",
       "      <td>1.0</td>\n",
       "      <td>150.00</td>\n",
       "      <td>47</td>\n",
       "      <td>5.800</td>\n",
       "      <td>202.800</td>\n",
       "      <td>0</td>\n",
       "    </tr>\n",
       "    <tr>\n",
       "      <th>209669</th>\n",
       "      <td>438.0</td>\n",
       "      <td>1.29</td>\n",
       "      <td>1.0</td>\n",
       "      <td>48.75</td>\n",
       "      <td>12</td>\n",
       "      <td>34.575</td>\n",
       "      <td>95.325</td>\n",
       "      <td>1</td>\n",
       "    </tr>\n",
       "    <tr>\n",
       "      <th>209670</th>\n",
       "      <td>571.0</td>\n",
       "      <td>2.82</td>\n",
       "      <td>1.0</td>\n",
       "      <td>63.75</td>\n",
       "      <td>0</td>\n",
       "      <td>6.000</td>\n",
       "      <td>69.750</td>\n",
       "      <td>0</td>\n",
       "    </tr>\n",
       "    <tr>\n",
       "      <th>209671</th>\n",
       "      <td>491.0</td>\n",
       "      <td>2.16</td>\n",
       "      <td>1.0</td>\n",
       "      <td>56.25</td>\n",
       "      <td>0</td>\n",
       "      <td>13.500</td>\n",
       "      <td>69.750</td>\n",
       "      <td>0</td>\n",
       "    </tr>\n",
       "    <tr>\n",
       "      <th>209672</th>\n",
       "      <td>3614.0</td>\n",
       "      <td>33.72</td>\n",
       "      <td>1.0</td>\n",
       "      <td>337.50</td>\n",
       "      <td>0</td>\n",
       "      <td>2.250</td>\n",
       "      <td>339.750</td>\n",
       "      <td>0</td>\n",
       "    </tr>\n",
       "  </tbody>\n",
       "</table>\n",
       "<p>209673 rows × 8 columns</p>\n",
       "</div>"
      ],
      "text/plain": [
       "        trip_duration  distance_traveled  num_of_passengers    fare  tip  \\\n",
       "0               748.0               2.75                1.0   75.00   24   \n",
       "1              1187.0               3.43                1.0  105.00   24   \n",
       "2               730.0               3.12                1.0   71.25    0   \n",
       "3               671.0               5.63                3.0   90.00    0   \n",
       "4               329.0               2.09                1.0   45.00   12   \n",
       "...               ...                ...                ...     ...  ...   \n",
       "209668         1617.0               8.42                1.0  150.00   47   \n",
       "209669          438.0               1.29                1.0   48.75   12   \n",
       "209670          571.0               2.82                1.0   63.75    0   \n",
       "209671          491.0               2.16                1.0   56.25    0   \n",
       "209672         3614.0              33.72                1.0  337.50    0   \n",
       "\n",
       "        miscellaneous_fees  total_fare  surge_applied  \n",
       "0                    6.300     105.300              0  \n",
       "1                   13.200     142.200              0  \n",
       "2                   26.625      97.875              1  \n",
       "3                    9.750      99.750              0  \n",
       "4                   13.200      70.200              0  \n",
       "...                    ...         ...            ...  \n",
       "209668               5.800     202.800              0  \n",
       "209669              34.575      95.325              1  \n",
       "209670               6.000      69.750              0  \n",
       "209671              13.500      69.750              0  \n",
       "209672               2.250     339.750              0  \n",
       "\n",
       "[209673 rows x 8 columns]"
      ]
     },
     "execution_count": 68,
     "metadata": {},
     "output_type": "execute_result"
    }
   ],
   "source": [
    "df=pd.read_csv(r\"E:\\RNS\\AIML PYTHON INTERNSHIP\\uber fare prediction\\taxi_fare\\train.csv\")\n",
    "df"
   ]
  },
  {
   "cell_type": "markdown",
   "id": "1a64bbd3",
   "metadata": {},
   "source": [
    "# Checking of basics insights\n",
    "\n",
    "It includes size,shape,columns,duplicates,null values,counting of rows,dimensions,discription and information "
   ]
  },
  {
   "cell_type": "code",
   "execution_count": 69,
   "id": "1232035e",
   "metadata": {},
   "outputs": [
    {
     "data": {
      "text/html": [
       "<div>\n",
       "<style scoped>\n",
       "    .dataframe tbody tr th:only-of-type {\n",
       "        vertical-align: middle;\n",
       "    }\n",
       "\n",
       "    .dataframe tbody tr th {\n",
       "        vertical-align: top;\n",
       "    }\n",
       "\n",
       "    .dataframe thead th {\n",
       "        text-align: right;\n",
       "    }\n",
       "</style>\n",
       "<table border=\"1\" class=\"dataframe\">\n",
       "  <thead>\n",
       "    <tr style=\"text-align: right;\">\n",
       "      <th></th>\n",
       "      <th>trip_duration</th>\n",
       "      <th>distance_traveled</th>\n",
       "      <th>num_of_passengers</th>\n",
       "      <th>fare</th>\n",
       "      <th>tip</th>\n",
       "      <th>miscellaneous_fees</th>\n",
       "      <th>total_fare</th>\n",
       "      <th>surge_applied</th>\n",
       "    </tr>\n",
       "  </thead>\n",
       "  <tbody>\n",
       "    <tr>\n",
       "      <th>0</th>\n",
       "      <td>748.0</td>\n",
       "      <td>2.75</td>\n",
       "      <td>1.0</td>\n",
       "      <td>75.00</td>\n",
       "      <td>24</td>\n",
       "      <td>6.300</td>\n",
       "      <td>105.300</td>\n",
       "      <td>0</td>\n",
       "    </tr>\n",
       "    <tr>\n",
       "      <th>1</th>\n",
       "      <td>1187.0</td>\n",
       "      <td>3.43</td>\n",
       "      <td>1.0</td>\n",
       "      <td>105.00</td>\n",
       "      <td>24</td>\n",
       "      <td>13.200</td>\n",
       "      <td>142.200</td>\n",
       "      <td>0</td>\n",
       "    </tr>\n",
       "    <tr>\n",
       "      <th>2</th>\n",
       "      <td>730.0</td>\n",
       "      <td>3.12</td>\n",
       "      <td>1.0</td>\n",
       "      <td>71.25</td>\n",
       "      <td>0</td>\n",
       "      <td>26.625</td>\n",
       "      <td>97.875</td>\n",
       "      <td>1</td>\n",
       "    </tr>\n",
       "    <tr>\n",
       "      <th>3</th>\n",
       "      <td>671.0</td>\n",
       "      <td>5.63</td>\n",
       "      <td>3.0</td>\n",
       "      <td>90.00</td>\n",
       "      <td>0</td>\n",
       "      <td>9.750</td>\n",
       "      <td>99.750</td>\n",
       "      <td>0</td>\n",
       "    </tr>\n",
       "    <tr>\n",
       "      <th>4</th>\n",
       "      <td>329.0</td>\n",
       "      <td>2.09</td>\n",
       "      <td>1.0</td>\n",
       "      <td>45.00</td>\n",
       "      <td>12</td>\n",
       "      <td>13.200</td>\n",
       "      <td>70.200</td>\n",
       "      <td>0</td>\n",
       "    </tr>\n",
       "  </tbody>\n",
       "</table>\n",
       "</div>"
      ],
      "text/plain": [
       "   trip_duration  distance_traveled  num_of_passengers    fare  tip  \\\n",
       "0          748.0               2.75                1.0   75.00   24   \n",
       "1         1187.0               3.43                1.0  105.00   24   \n",
       "2          730.0               3.12                1.0   71.25    0   \n",
       "3          671.0               5.63                3.0   90.00    0   \n",
       "4          329.0               2.09                1.0   45.00   12   \n",
       "\n",
       "   miscellaneous_fees  total_fare  surge_applied  \n",
       "0               6.300     105.300              0  \n",
       "1              13.200     142.200              0  \n",
       "2              26.625      97.875              1  \n",
       "3               9.750      99.750              0  \n",
       "4              13.200      70.200              0  "
      ]
     },
     "execution_count": 69,
     "metadata": {},
     "output_type": "execute_result"
    }
   ],
   "source": [
    "df.head()"
   ]
  },
  {
   "cell_type": "code",
   "execution_count": 70,
   "id": "e6850c18",
   "metadata": {},
   "outputs": [
    {
     "data": {
      "text/html": [
       "<div>\n",
       "<style scoped>\n",
       "    .dataframe tbody tr th:only-of-type {\n",
       "        vertical-align: middle;\n",
       "    }\n",
       "\n",
       "    .dataframe tbody tr th {\n",
       "        vertical-align: top;\n",
       "    }\n",
       "\n",
       "    .dataframe thead th {\n",
       "        text-align: right;\n",
       "    }\n",
       "</style>\n",
       "<table border=\"1\" class=\"dataframe\">\n",
       "  <thead>\n",
       "    <tr style=\"text-align: right;\">\n",
       "      <th></th>\n",
       "      <th>trip_duration</th>\n",
       "      <th>distance_traveled</th>\n",
       "      <th>num_of_passengers</th>\n",
       "      <th>fare</th>\n",
       "      <th>tip</th>\n",
       "      <th>miscellaneous_fees</th>\n",
       "      <th>total_fare</th>\n",
       "      <th>surge_applied</th>\n",
       "    </tr>\n",
       "  </thead>\n",
       "  <tbody>\n",
       "    <tr>\n",
       "      <th>209668</th>\n",
       "      <td>1617.0</td>\n",
       "      <td>8.42</td>\n",
       "      <td>1.0</td>\n",
       "      <td>150.00</td>\n",
       "      <td>47</td>\n",
       "      <td>5.800</td>\n",
       "      <td>202.800</td>\n",
       "      <td>0</td>\n",
       "    </tr>\n",
       "    <tr>\n",
       "      <th>209669</th>\n",
       "      <td>438.0</td>\n",
       "      <td>1.29</td>\n",
       "      <td>1.0</td>\n",
       "      <td>48.75</td>\n",
       "      <td>12</td>\n",
       "      <td>34.575</td>\n",
       "      <td>95.325</td>\n",
       "      <td>1</td>\n",
       "    </tr>\n",
       "    <tr>\n",
       "      <th>209670</th>\n",
       "      <td>571.0</td>\n",
       "      <td>2.82</td>\n",
       "      <td>1.0</td>\n",
       "      <td>63.75</td>\n",
       "      <td>0</td>\n",
       "      <td>6.000</td>\n",
       "      <td>69.750</td>\n",
       "      <td>0</td>\n",
       "    </tr>\n",
       "    <tr>\n",
       "      <th>209671</th>\n",
       "      <td>491.0</td>\n",
       "      <td>2.16</td>\n",
       "      <td>1.0</td>\n",
       "      <td>56.25</td>\n",
       "      <td>0</td>\n",
       "      <td>13.500</td>\n",
       "      <td>69.750</td>\n",
       "      <td>0</td>\n",
       "    </tr>\n",
       "    <tr>\n",
       "      <th>209672</th>\n",
       "      <td>3614.0</td>\n",
       "      <td>33.72</td>\n",
       "      <td>1.0</td>\n",
       "      <td>337.50</td>\n",
       "      <td>0</td>\n",
       "      <td>2.250</td>\n",
       "      <td>339.750</td>\n",
       "      <td>0</td>\n",
       "    </tr>\n",
       "  </tbody>\n",
       "</table>\n",
       "</div>"
      ],
      "text/plain": [
       "        trip_duration  distance_traveled  num_of_passengers    fare  tip  \\\n",
       "209668         1617.0               8.42                1.0  150.00   47   \n",
       "209669          438.0               1.29                1.0   48.75   12   \n",
       "209670          571.0               2.82                1.0   63.75    0   \n",
       "209671          491.0               2.16                1.0   56.25    0   \n",
       "209672         3614.0              33.72                1.0  337.50    0   \n",
       "\n",
       "        miscellaneous_fees  total_fare  surge_applied  \n",
       "209668               5.800     202.800              0  \n",
       "209669              34.575      95.325              1  \n",
       "209670               6.000      69.750              0  \n",
       "209671              13.500      69.750              0  \n",
       "209672               2.250     339.750              0  "
      ]
     },
     "execution_count": 70,
     "metadata": {},
     "output_type": "execute_result"
    }
   ],
   "source": [
    "df.tail()"
   ]
  },
  {
   "cell_type": "code",
   "execution_count": 71,
   "id": "998ff840",
   "metadata": {},
   "outputs": [
    {
     "data": {
      "text/plain": [
       "1677384"
      ]
     },
     "execution_count": 71,
     "metadata": {},
     "output_type": "execute_result"
    }
   ],
   "source": [
    "df.size"
   ]
  },
  {
   "cell_type": "code",
   "execution_count": 6,
   "id": "218e9df2",
   "metadata": {},
   "outputs": [
    {
     "data": {
      "text/plain": [
       "(209673, 8)"
      ]
     },
     "execution_count": 6,
     "metadata": {},
     "output_type": "execute_result"
    }
   ],
   "source": [
    "df.shape"
   ]
  },
  {
   "cell_type": "code",
   "execution_count": 7,
   "id": "b34cd398",
   "metadata": {},
   "outputs": [
    {
     "data": {
      "text/plain": [
       "Index(['trip_duration', 'distance_traveled', 'num_of_passengers', 'fare',\n",
       "       'tip', 'miscellaneous_fees', 'total_fare', 'surge_applied'],\n",
       "      dtype='object')"
      ]
     },
     "execution_count": 7,
     "metadata": {},
     "output_type": "execute_result"
    }
   ],
   "source": [
    "df.columns"
   ]
  },
  {
   "cell_type": "code",
   "execution_count": 8,
   "id": "85e2a1fa",
   "metadata": {},
   "outputs": [
    {
     "data": {
      "text/plain": [
       "4325"
      ]
     },
     "execution_count": 8,
     "metadata": {},
     "output_type": "execute_result"
    }
   ],
   "source": [
    "df.duplicated().sum()"
   ]
  },
  {
   "cell_type": "code",
   "execution_count": 9,
   "id": "18b78df9",
   "metadata": {},
   "outputs": [
    {
     "data": {
      "text/plain": [
       "trip_duration         0\n",
       "distance_traveled     0\n",
       "num_of_passengers     0\n",
       "fare                  0\n",
       "tip                   0\n",
       "miscellaneous_fees    0\n",
       "total_fare            0\n",
       "surge_applied         0\n",
       "dtype: int64"
      ]
     },
     "execution_count": 9,
     "metadata": {},
     "output_type": "execute_result"
    }
   ],
   "source": [
    "df.isna().sum()"
   ]
  },
  {
   "cell_type": "code",
   "execution_count": 10,
   "id": "ade5f30a",
   "metadata": {},
   "outputs": [],
   "source": [
    "df=df.drop_duplicates()"
   ]
  },
  {
   "cell_type": "code",
   "execution_count": 11,
   "id": "4e4e3c8d",
   "metadata": {},
   "outputs": [
    {
     "data": {
      "text/plain": [
       "1642784"
      ]
     },
     "execution_count": 11,
     "metadata": {},
     "output_type": "execute_result"
    }
   ],
   "source": [
    "df.size"
   ]
  },
  {
   "cell_type": "code",
   "execution_count": 12,
   "id": "5a536b9b",
   "metadata": {},
   "outputs": [
    {
     "data": {
      "text/plain": [
       "(205348, 8)"
      ]
     },
     "execution_count": 12,
     "metadata": {},
     "output_type": "execute_result"
    }
   ],
   "source": [
    "df.shape"
   ]
  },
  {
   "cell_type": "code",
   "execution_count": 13,
   "id": "4d502e48",
   "metadata": {},
   "outputs": [
    {
     "data": {
      "text/html": [
       "<div>\n",
       "<style scoped>\n",
       "    .dataframe tbody tr th:only-of-type {\n",
       "        vertical-align: middle;\n",
       "    }\n",
       "\n",
       "    .dataframe tbody tr th {\n",
       "        vertical-align: top;\n",
       "    }\n",
       "\n",
       "    .dataframe thead th {\n",
       "        text-align: right;\n",
       "    }\n",
       "</style>\n",
       "<table border=\"1\" class=\"dataframe\">\n",
       "  <thead>\n",
       "    <tr style=\"text-align: right;\">\n",
       "      <th></th>\n",
       "      <th>trip_duration</th>\n",
       "      <th>distance_traveled</th>\n",
       "      <th>num_of_passengers</th>\n",
       "      <th>fare</th>\n",
       "      <th>tip</th>\n",
       "      <th>miscellaneous_fees</th>\n",
       "      <th>total_fare</th>\n",
       "      <th>surge_applied</th>\n",
       "    </tr>\n",
       "  </thead>\n",
       "  <tbody>\n",
       "    <tr>\n",
       "      <th>count</th>\n",
       "      <td>205348.000000</td>\n",
       "      <td>205348.000000</td>\n",
       "      <td>205348.000000</td>\n",
       "      <td>205348.000000</td>\n",
       "      <td>205348.000000</td>\n",
       "      <td>205348.000000</td>\n",
       "      <td>205348.000000</td>\n",
       "      <td>205348.000000</td>\n",
       "    </tr>\n",
       "    <tr>\n",
       "      <th>mean</th>\n",
       "      <td>1189.102226</td>\n",
       "      <td>5.123167</td>\n",
       "      <td>1.298654</td>\n",
       "      <td>100.656568</td>\n",
       "      <td>13.247560</td>\n",
       "      <td>15.294384</td>\n",
       "      <td>129.198512</td>\n",
       "      <td>0.285803</td>\n",
       "    </tr>\n",
       "    <tr>\n",
       "      <th>std</th>\n",
       "      <td>4824.302160</td>\n",
       "      <td>126.528223</td>\n",
       "      <td>0.939258</td>\n",
       "      <td>86.142902</td>\n",
       "      <td>20.507879</td>\n",
       "      <td>12.621609</td>\n",
       "      <td>99.283531</td>\n",
       "      <td>0.451797</td>\n",
       "    </tr>\n",
       "    <tr>\n",
       "      <th>min</th>\n",
       "      <td>0.000000</td>\n",
       "      <td>0.020000</td>\n",
       "      <td>0.000000</td>\n",
       "      <td>0.000000</td>\n",
       "      <td>0.000000</td>\n",
       "      <td>-0.500000</td>\n",
       "      <td>0.000000</td>\n",
       "      <td>0.000000</td>\n",
       "    </tr>\n",
       "    <tr>\n",
       "      <th>25%</th>\n",
       "      <td>454.000000</td>\n",
       "      <td>1.980000</td>\n",
       "      <td>1.000000</td>\n",
       "      <td>52.500000</td>\n",
       "      <td>0.000000</td>\n",
       "      <td>6.000000</td>\n",
       "      <td>73.125000</td>\n",
       "      <td>0.000000</td>\n",
       "    </tr>\n",
       "    <tr>\n",
       "      <th>50%</th>\n",
       "      <td>716.000000</td>\n",
       "      <td>3.250000</td>\n",
       "      <td>1.000000</td>\n",
       "      <td>78.750000</td>\n",
       "      <td>9.000000</td>\n",
       "      <td>9.750000</td>\n",
       "      <td>103.500000</td>\n",
       "      <td>0.000000</td>\n",
       "    </tr>\n",
       "    <tr>\n",
       "      <th>75%</th>\n",
       "      <td>1110.000000</td>\n",
       "      <td>5.810000</td>\n",
       "      <td>1.000000</td>\n",
       "      <td>116.250000</td>\n",
       "      <td>20.000000</td>\n",
       "      <td>26.525000</td>\n",
       "      <td>153.450000</td>\n",
       "      <td>1.000000</td>\n",
       "    </tr>\n",
       "    <tr>\n",
       "      <th>max</th>\n",
       "      <td>86387.000000</td>\n",
       "      <td>57283.910000</td>\n",
       "      <td>9.000000</td>\n",
       "      <td>4466.250000</td>\n",
       "      <td>2500.000000</td>\n",
       "      <td>435.000000</td>\n",
       "      <td>4472.250000</td>\n",
       "      <td>1.000000</td>\n",
       "    </tr>\n",
       "  </tbody>\n",
       "</table>\n",
       "</div>"
      ],
      "text/plain": [
       "       trip_duration  distance_traveled  num_of_passengers           fare  \\\n",
       "count  205348.000000      205348.000000      205348.000000  205348.000000   \n",
       "mean     1189.102226           5.123167           1.298654     100.656568   \n",
       "std      4824.302160         126.528223           0.939258      86.142902   \n",
       "min         0.000000           0.020000           0.000000       0.000000   \n",
       "25%       454.000000           1.980000           1.000000      52.500000   \n",
       "50%       716.000000           3.250000           1.000000      78.750000   \n",
       "75%      1110.000000           5.810000           1.000000     116.250000   \n",
       "max     86387.000000       57283.910000           9.000000    4466.250000   \n",
       "\n",
       "                 tip  miscellaneous_fees     total_fare  surge_applied  \n",
       "count  205348.000000       205348.000000  205348.000000  205348.000000  \n",
       "mean       13.247560           15.294384     129.198512       0.285803  \n",
       "std        20.507879           12.621609      99.283531       0.451797  \n",
       "min         0.000000           -0.500000       0.000000       0.000000  \n",
       "25%         0.000000            6.000000      73.125000       0.000000  \n",
       "50%         9.000000            9.750000     103.500000       0.000000  \n",
       "75%        20.000000           26.525000     153.450000       1.000000  \n",
       "max      2500.000000          435.000000    4472.250000       1.000000  "
      ]
     },
     "execution_count": 13,
     "metadata": {},
     "output_type": "execute_result"
    }
   ],
   "source": [
    "df.describe()"
   ]
  },
  {
   "cell_type": "code",
   "execution_count": 14,
   "id": "683f5ee0",
   "metadata": {},
   "outputs": [
    {
     "name": "stdout",
     "output_type": "stream",
     "text": [
      "<class 'pandas.core.frame.DataFrame'>\n",
      "Int64Index: 205348 entries, 0 to 209672\n",
      "Data columns (total 8 columns):\n",
      " #   Column              Non-Null Count   Dtype  \n",
      "---  ------              --------------   -----  \n",
      " 0   trip_duration       205348 non-null  float64\n",
      " 1   distance_traveled   205348 non-null  float64\n",
      " 2   num_of_passengers   205348 non-null  float64\n",
      " 3   fare                205348 non-null  float64\n",
      " 4   tip                 205348 non-null  int64  \n",
      " 5   miscellaneous_fees  205348 non-null  float64\n",
      " 6   total_fare          205348 non-null  float64\n",
      " 7   surge_applied       205348 non-null  int64  \n",
      "dtypes: float64(6), int64(2)\n",
      "memory usage: 14.1 MB\n"
     ]
    }
   ],
   "source": [
    "df.info()"
   ]
  },
  {
   "cell_type": "code",
   "execution_count": 15,
   "id": "9ee005f6",
   "metadata": {},
   "outputs": [
    {
     "data": {
      "text/plain": [
       "2"
      ]
     },
     "execution_count": 15,
     "metadata": {},
     "output_type": "execute_result"
    }
   ],
   "source": [
    "df.ndim"
   ]
  },
  {
   "cell_type": "code",
   "execution_count": 16,
   "id": "6e6fd452",
   "metadata": {},
   "outputs": [
    {
     "data": {
      "text/plain": [
       "trip_duration         1189.102226\n",
       "distance_traveled        5.123167\n",
       "num_of_passengers        1.298654\n",
       "fare                   100.656568\n",
       "tip                     13.247560\n",
       "miscellaneous_fees      15.294384\n",
       "total_fare             129.198512\n",
       "surge_applied            0.285803\n",
       "dtype: float64"
      ]
     },
     "execution_count": 16,
     "metadata": {},
     "output_type": "execute_result"
    }
   ],
   "source": [
    "df.mean()"
   ]
  },
  {
   "cell_type": "code",
   "execution_count": 17,
   "id": "61121984",
   "metadata": {},
   "outputs": [
    {
     "data": {
      "text/plain": [
       "trip_duration         716.00\n",
       "distance_traveled       3.25\n",
       "num_of_passengers       1.00\n",
       "fare                   78.75\n",
       "tip                     9.00\n",
       "miscellaneous_fees      9.75\n",
       "total_fare            103.50\n",
       "surge_applied           0.00\n",
       "dtype: float64"
      ]
     },
     "execution_count": 17,
     "metadata": {},
     "output_type": "execute_result"
    }
   ],
   "source": [
    "df.median()"
   ]
  },
  {
   "cell_type": "code",
   "execution_count": 72,
   "id": "fda6bcaa",
   "metadata": {},
   "outputs": [
    {
     "data": {
      "text/plain": [
       "trip_duration         209673\n",
       "distance_traveled     209673\n",
       "num_of_passengers     209673\n",
       "fare                  209673\n",
       "tip                   209673\n",
       "miscellaneous_fees    209673\n",
       "total_fare            209673\n",
       "surge_applied         209673\n",
       "dtype: int64"
      ]
     },
     "execution_count": 72,
     "metadata": {},
     "output_type": "execute_result"
    }
   ],
   "source": [
    "df.count()"
   ]
  },
  {
   "cell_type": "markdown",
   "id": "50fb663a",
   "metadata": {},
   "source": [
    "# Mat plotting\n",
    "\n",
    "* Here we have used scatter plot, kdeplot, hist plot and heat mapping to understand the dataset values"
   ]
  },
  {
   "cell_type": "code",
   "execution_count": 78,
   "id": "eea58366",
   "metadata": {},
   "outputs": [
    {
     "data": {
      "text/plain": [
       "<matplotlib.collections.PathCollection at 0x208509452a0>"
      ]
     },
     "execution_count": 78,
     "metadata": {},
     "output_type": "execute_result"
    },
    {
     "data": {
      "image/png": "[encoded data removed]",
      "text/plain": [
       "<Figure size 640x480 with 1 Axes>"
      ]
     },
     "metadata": {},
     "output_type": "display_data"
    }
   ],
   "source": [
    "plt.scatter(df[\"distance_traveled\"],df[\"total_fare\"])"
   ]
  },
  {
   "cell_type": "code",
   "execution_count": 74,
   "id": "3e945b25",
   "metadata": {},
   "outputs": [
    {
     "data": {
      "image/png": "[encoded data removed]",
      "text/plain": [
       "<Figure size 800x500 with 1 Axes>"
      ]
     },
     "metadata": {},
     "output_type": "display_data"
    }
   ],
   "source": [
    "plt.figure(figsize=(8,5))\n",
    "sns.kdeplot(np.log(df['total_fare'].values)).set_title(\"Distribution of Fare Amount in Log scale\",fontsize=15,fontweight='bold');"
   ]
  },
  {
   "cell_type": "code",
   "execution_count": 19,
   "id": "35a912fa",
   "metadata": {},
   "outputs": [
    {
     "data": {
      "text/plain": [
       "array([[<Axes: title={'center': 'fare'}>]], dtype=object)"
      ]
     },
     "execution_count": 19,
     "metadata": {},
     "output_type": "execute_result"
    },
    {
     "data": {
      "image/png": "[encoded data removed]",
      "text/plain": [
       "<Figure size 640x480 with 1 Axes>"
      ]
     },
     "metadata": {},
     "output_type": "display_data"
    }
   ],
   "source": [
    "df.hist(column='fare', bins=500)"
   ]
  },
  {
   "cell_type": "code",
   "execution_count": 20,
   "id": "51662ae4",
   "metadata": {},
   "outputs": [
    {
     "data": {
      "text/plain": [
       "<Axes: >"
      ]
     },
     "execution_count": 20,
     "metadata": {},
     "output_type": "execute_result"
    },
    {
     "data": {
      "image/png": "[encoded data removed]",
      "text/plain": [
       "<Figure size 1500x800 with 2 Axes>"
      ]
     },
     "metadata": {},
     "output_type": "display_data"
    }
   ],
   "source": [
    "plt.figure(figsize = (15,8))\n",
    "sns.heatmap(df.corr(), annot = True, cmap = \"mako\")"
   ]
  },
  {
   "cell_type": "code",
   "execution_count": 21,
   "id": "7fc77b76",
   "metadata": {},
   "outputs": [
    {
     "data": {
      "text/html": [
       "<div>\n",
       "<style scoped>\n",
       "    .dataframe tbody tr th:only-of-type {\n",
       "        vertical-align: middle;\n",
       "    }\n",
       "\n",
       "    .dataframe tbody tr th {\n",
       "        vertical-align: top;\n",
       "    }\n",
       "\n",
       "    .dataframe thead th {\n",
       "        text-align: right;\n",
       "    }\n",
       "</style>\n",
       "<table border=\"1\" class=\"dataframe\">\n",
       "  <thead>\n",
       "    <tr style=\"text-align: right;\">\n",
       "      <th></th>\n",
       "      <th>trip_duration</th>\n",
       "      <th>distance_traveled</th>\n",
       "      <th>num_of_passengers</th>\n",
       "      <th>fare</th>\n",
       "      <th>tip</th>\n",
       "      <th>miscellaneous_fees</th>\n",
       "      <th>total_fare</th>\n",
       "    </tr>\n",
       "  </thead>\n",
       "  <tbody>\n",
       "    <tr>\n",
       "      <th>0</th>\n",
       "      <td>748.0</td>\n",
       "      <td>2.75</td>\n",
       "      <td>1.0</td>\n",
       "      <td>75.00</td>\n",
       "      <td>24</td>\n",
       "      <td>6.300</td>\n",
       "      <td>105.300</td>\n",
       "    </tr>\n",
       "    <tr>\n",
       "      <th>1</th>\n",
       "      <td>1187.0</td>\n",
       "      <td>3.43</td>\n",
       "      <td>1.0</td>\n",
       "      <td>105.00</td>\n",
       "      <td>24</td>\n",
       "      <td>13.200</td>\n",
       "      <td>142.200</td>\n",
       "    </tr>\n",
       "    <tr>\n",
       "      <th>2</th>\n",
       "      <td>730.0</td>\n",
       "      <td>3.12</td>\n",
       "      <td>1.0</td>\n",
       "      <td>71.25</td>\n",
       "      <td>0</td>\n",
       "      <td>26.625</td>\n",
       "      <td>97.875</td>\n",
       "    </tr>\n",
       "    <tr>\n",
       "      <th>3</th>\n",
       "      <td>671.0</td>\n",
       "      <td>5.63</td>\n",
       "      <td>3.0</td>\n",
       "      <td>90.00</td>\n",
       "      <td>0</td>\n",
       "      <td>9.750</td>\n",
       "      <td>99.750</td>\n",
       "    </tr>\n",
       "    <tr>\n",
       "      <th>4</th>\n",
       "      <td>329.0</td>\n",
       "      <td>2.09</td>\n",
       "      <td>1.0</td>\n",
       "      <td>45.00</td>\n",
       "      <td>12</td>\n",
       "      <td>13.200</td>\n",
       "      <td>70.200</td>\n",
       "    </tr>\n",
       "    <tr>\n",
       "      <th>...</th>\n",
       "      <td>...</td>\n",
       "      <td>...</td>\n",
       "      <td>...</td>\n",
       "      <td>...</td>\n",
       "      <td>...</td>\n",
       "      <td>...</td>\n",
       "      <td>...</td>\n",
       "    </tr>\n",
       "    <tr>\n",
       "      <th>209668</th>\n",
       "      <td>1617.0</td>\n",
       "      <td>8.42</td>\n",
       "      <td>1.0</td>\n",
       "      <td>150.00</td>\n",
       "      <td>47</td>\n",
       "      <td>5.800</td>\n",
       "      <td>202.800</td>\n",
       "    </tr>\n",
       "    <tr>\n",
       "      <th>209669</th>\n",
       "      <td>438.0</td>\n",
       "      <td>1.29</td>\n",
       "      <td>1.0</td>\n",
       "      <td>48.75</td>\n",
       "      <td>12</td>\n",
       "      <td>34.575</td>\n",
       "      <td>95.325</td>\n",
       "    </tr>\n",
       "    <tr>\n",
       "      <th>209670</th>\n",
       "      <td>571.0</td>\n",
       "      <td>2.82</td>\n",
       "      <td>1.0</td>\n",
       "      <td>63.75</td>\n",
       "      <td>0</td>\n",
       "      <td>6.000</td>\n",
       "      <td>69.750</td>\n",
       "    </tr>\n",
       "    <tr>\n",
       "      <th>209671</th>\n",
       "      <td>491.0</td>\n",
       "      <td>2.16</td>\n",
       "      <td>1.0</td>\n",
       "      <td>56.25</td>\n",
       "      <td>0</td>\n",
       "      <td>13.500</td>\n",
       "      <td>69.750</td>\n",
       "    </tr>\n",
       "    <tr>\n",
       "      <th>209672</th>\n",
       "      <td>3614.0</td>\n",
       "      <td>33.72</td>\n",
       "      <td>1.0</td>\n",
       "      <td>337.50</td>\n",
       "      <td>0</td>\n",
       "      <td>2.250</td>\n",
       "      <td>339.750</td>\n",
       "    </tr>\n",
       "  </tbody>\n",
       "</table>\n",
       "<p>205348 rows × 7 columns</p>\n",
       "</div>"
      ],
      "text/plain": [
       "        trip_duration  distance_traveled  num_of_passengers    fare  tip  \\\n",
       "0               748.0               2.75                1.0   75.00   24   \n",
       "1              1187.0               3.43                1.0  105.00   24   \n",
       "2               730.0               3.12                1.0   71.25    0   \n",
       "3               671.0               5.63                3.0   90.00    0   \n",
       "4               329.0               2.09                1.0   45.00   12   \n",
       "...               ...                ...                ...     ...  ...   \n",
       "209668         1617.0               8.42                1.0  150.00   47   \n",
       "209669          438.0               1.29                1.0   48.75   12   \n",
       "209670          571.0               2.82                1.0   63.75    0   \n",
       "209671          491.0               2.16                1.0   56.25    0   \n",
       "209672         3614.0              33.72                1.0  337.50    0   \n",
       "\n",
       "        miscellaneous_fees  total_fare  \n",
       "0                    6.300     105.300  \n",
       "1                   13.200     142.200  \n",
       "2                   26.625      97.875  \n",
       "3                    9.750      99.750  \n",
       "4                   13.200      70.200  \n",
       "...                    ...         ...  \n",
       "209668               5.800     202.800  \n",
       "209669              34.575      95.325  \n",
       "209670               6.000      69.750  \n",
       "209671              13.500      69.750  \n",
       "209672               2.250     339.750  \n",
       "\n",
       "[205348 rows x 7 columns]"
      ]
     },
     "execution_count": 21,
     "metadata": {},
     "output_type": "execute_result"
    }
   ],
   "source": [
    "x = df.drop('surge_applied',axis = 1)# axis = 1 for columns..\n",
    "x.head()\n",
    "X = df.iloc[:,:-1]\n",
    "X"
   ]
  },
  {
   "cell_type": "code",
   "execution_count": 22,
   "id": "fbdfeb0b",
   "metadata": {},
   "outputs": [
    {
     "data": {
      "text/plain": [
       "<Axes: >"
      ]
     },
     "execution_count": 22,
     "metadata": {},
     "output_type": "execute_result"
    },
    {
     "data": {
      "image/png": "[encoded data removed]",
      "text/plain": [
       "<Figure size 640x480 with 2 Axes>"
      ]
     },
     "metadata": {},
     "output_type": "display_data"
    }
   ],
   "source": [
    "sns.heatmap(df.corr(),cmap='vlag',linewidths=3,linecolor='black')"
   ]
  },
  {
   "cell_type": "markdown",
   "id": "6e871847",
   "metadata": {},
   "source": [
    "# Model Building\n",
    "\n",
    "it mainly has 4 steps:\n",
    " * Specifying of dependent(x) and independent(y) variables\n",
    " * Spliting of data into training and testing\n",
    " * Model building using logistic regression\n",
    " * Checking of model performance using mean squared error and r2 score"
   ]
  },
  {
   "cell_type": "code",
   "execution_count": 23,
   "id": "b5d4dd80",
   "metadata": {},
   "outputs": [
    {
     "data": {
      "text/html": [
       "<div>\n",
       "<style scoped>\n",
       "    .dataframe tbody tr th:only-of-type {\n",
       "        vertical-align: middle;\n",
       "    }\n",
       "\n",
       "    .dataframe tbody tr th {\n",
       "        vertical-align: top;\n",
       "    }\n",
       "\n",
       "    .dataframe thead th {\n",
       "        text-align: right;\n",
       "    }\n",
       "</style>\n",
       "<table border=\"1\" class=\"dataframe\">\n",
       "  <thead>\n",
       "    <tr style=\"text-align: right;\">\n",
       "      <th></th>\n",
       "      <th>trip_duration</th>\n",
       "      <th>distance_traveled</th>\n",
       "      <th>num_of_passengers</th>\n",
       "      <th>fare</th>\n",
       "      <th>tip</th>\n",
       "      <th>miscellaneous_fees</th>\n",
       "      <th>total_fare</th>\n",
       "    </tr>\n",
       "  </thead>\n",
       "  <tbody>\n",
       "    <tr>\n",
       "      <th>0</th>\n",
       "      <td>748.0</td>\n",
       "      <td>2.75</td>\n",
       "      <td>1.0</td>\n",
       "      <td>75.00</td>\n",
       "      <td>24</td>\n",
       "      <td>6.300</td>\n",
       "      <td>105.300</td>\n",
       "    </tr>\n",
       "    <tr>\n",
       "      <th>1</th>\n",
       "      <td>1187.0</td>\n",
       "      <td>3.43</td>\n",
       "      <td>1.0</td>\n",
       "      <td>105.00</td>\n",
       "      <td>24</td>\n",
       "      <td>13.200</td>\n",
       "      <td>142.200</td>\n",
       "    </tr>\n",
       "    <tr>\n",
       "      <th>2</th>\n",
       "      <td>730.0</td>\n",
       "      <td>3.12</td>\n",
       "      <td>1.0</td>\n",
       "      <td>71.25</td>\n",
       "      <td>0</td>\n",
       "      <td>26.625</td>\n",
       "      <td>97.875</td>\n",
       "    </tr>\n",
       "    <tr>\n",
       "      <th>3</th>\n",
       "      <td>671.0</td>\n",
       "      <td>5.63</td>\n",
       "      <td>3.0</td>\n",
       "      <td>90.00</td>\n",
       "      <td>0</td>\n",
       "      <td>9.750</td>\n",
       "      <td>99.750</td>\n",
       "    </tr>\n",
       "    <tr>\n",
       "      <th>4</th>\n",
       "      <td>329.0</td>\n",
       "      <td>2.09</td>\n",
       "      <td>1.0</td>\n",
       "      <td>45.00</td>\n",
       "      <td>12</td>\n",
       "      <td>13.200</td>\n",
       "      <td>70.200</td>\n",
       "    </tr>\n",
       "    <tr>\n",
       "      <th>...</th>\n",
       "      <td>...</td>\n",
       "      <td>...</td>\n",
       "      <td>...</td>\n",
       "      <td>...</td>\n",
       "      <td>...</td>\n",
       "      <td>...</td>\n",
       "      <td>...</td>\n",
       "    </tr>\n",
       "    <tr>\n",
       "      <th>209668</th>\n",
       "      <td>1617.0</td>\n",
       "      <td>8.42</td>\n",
       "      <td>1.0</td>\n",
       "      <td>150.00</td>\n",
       "      <td>47</td>\n",
       "      <td>5.800</td>\n",
       "      <td>202.800</td>\n",
       "    </tr>\n",
       "    <tr>\n",
       "      <th>209669</th>\n",
       "      <td>438.0</td>\n",
       "      <td>1.29</td>\n",
       "      <td>1.0</td>\n",
       "      <td>48.75</td>\n",
       "      <td>12</td>\n",
       "      <td>34.575</td>\n",
       "      <td>95.325</td>\n",
       "    </tr>\n",
       "    <tr>\n",
       "      <th>209670</th>\n",
       "      <td>571.0</td>\n",
       "      <td>2.82</td>\n",
       "      <td>1.0</td>\n",
       "      <td>63.75</td>\n",
       "      <td>0</td>\n",
       "      <td>6.000</td>\n",
       "      <td>69.750</td>\n",
       "    </tr>\n",
       "    <tr>\n",
       "      <th>209671</th>\n",
       "      <td>491.0</td>\n",
       "      <td>2.16</td>\n",
       "      <td>1.0</td>\n",
       "      <td>56.25</td>\n",
       "      <td>0</td>\n",
       "      <td>13.500</td>\n",
       "      <td>69.750</td>\n",
       "    </tr>\n",
       "    <tr>\n",
       "      <th>209672</th>\n",
       "      <td>3614.0</td>\n",
       "      <td>33.72</td>\n",
       "      <td>1.0</td>\n",
       "      <td>337.50</td>\n",
       "      <td>0</td>\n",
       "      <td>2.250</td>\n",
       "      <td>339.750</td>\n",
       "    </tr>\n",
       "  </tbody>\n",
       "</table>\n",
       "<p>205348 rows × 7 columns</p>\n",
       "</div>"
      ],
      "text/plain": [
       "        trip_duration  distance_traveled  num_of_passengers    fare  tip  \\\n",
       "0               748.0               2.75                1.0   75.00   24   \n",
       "1              1187.0               3.43                1.0  105.00   24   \n",
       "2               730.0               3.12                1.0   71.25    0   \n",
       "3               671.0               5.63                3.0   90.00    0   \n",
       "4               329.0               2.09                1.0   45.00   12   \n",
       "...               ...                ...                ...     ...  ...   \n",
       "209668         1617.0               8.42                1.0  150.00   47   \n",
       "209669          438.0               1.29                1.0   48.75   12   \n",
       "209670          571.0               2.82                1.0   63.75    0   \n",
       "209671          491.0               2.16                1.0   56.25    0   \n",
       "209672         3614.0              33.72                1.0  337.50    0   \n",
       "\n",
       "        miscellaneous_fees  total_fare  \n",
       "0                    6.300     105.300  \n",
       "1                   13.200     142.200  \n",
       "2                   26.625      97.875  \n",
       "3                    9.750      99.750  \n",
       "4                   13.200      70.200  \n",
       "...                    ...         ...  \n",
       "209668               5.800     202.800  \n",
       "209669              34.575      95.325  \n",
       "209670               6.000      69.750  \n",
       "209671              13.500      69.750  \n",
       "209672               2.250     339.750  \n",
       "\n",
       "[205348 rows x 7 columns]"
      ]
     },
     "execution_count": 23,
     "metadata": {},
     "output_type": "execute_result"
    }
   ],
   "source": [
    "x=df.drop(\"surge_applied\",axis=1)\n",
    "x"
   ]
  },
  {
   "cell_type": "code",
   "execution_count": 24,
   "id": "241c0bf2",
   "metadata": {},
   "outputs": [
    {
     "data": {
      "text/plain": [
       "0         0\n",
       "1         0\n",
       "2         1\n",
       "3         0\n",
       "4         0\n",
       "         ..\n",
       "209668    0\n",
       "209669    1\n",
       "209670    0\n",
       "209671    0\n",
       "209672    0\n",
       "Name: surge_applied, Length: 205348, dtype: int64"
      ]
     },
     "execution_count": 24,
     "metadata": {},
     "output_type": "execute_result"
    }
   ],
   "source": [
    "y=df[\"surge_applied\"]\n",
    "y"
   ]
  },
  {
   "cell_type": "code",
   "execution_count": 25,
   "id": "8b520ace",
   "metadata": {},
   "outputs": [],
   "source": [
    "from sklearn.model_selection import train_test_split\n",
    "x_train,x_test,y_train,y_test=train_test_split(x,y,test_size=0.35,random_state=100)"
   ]
  },
  {
   "cell_type": "code",
   "execution_count": 26,
   "id": "ff6fc8c8",
   "metadata": {},
   "outputs": [
    {
     "data": {
      "text/html": [
       "<div>\n",
       "<style scoped>\n",
       "    .dataframe tbody tr th:only-of-type {\n",
       "        vertical-align: middle;\n",
       "    }\n",
       "\n",
       "    .dataframe tbody tr th {\n",
       "        vertical-align: top;\n",
       "    }\n",
       "\n",
       "    .dataframe thead th {\n",
       "        text-align: right;\n",
       "    }\n",
       "</style>\n",
       "<table border=\"1\" class=\"dataframe\">\n",
       "  <thead>\n",
       "    <tr style=\"text-align: right;\">\n",
       "      <th></th>\n",
       "      <th>trip_duration</th>\n",
       "      <th>distance_traveled</th>\n",
       "      <th>num_of_passengers</th>\n",
       "      <th>fare</th>\n",
       "      <th>tip</th>\n",
       "      <th>miscellaneous_fees</th>\n",
       "      <th>total_fare</th>\n",
       "    </tr>\n",
       "  </thead>\n",
       "  <tbody>\n",
       "    <tr>\n",
       "      <th>173200</th>\n",
       "      <td>950.0</td>\n",
       "      <td>3.51</td>\n",
       "      <td>2.0</td>\n",
       "      <td>86.25</td>\n",
       "      <td>14</td>\n",
       "      <td>5.800</td>\n",
       "      <td>106.050</td>\n",
       "    </tr>\n",
       "    <tr>\n",
       "      <th>35286</th>\n",
       "      <td>268.0</td>\n",
       "      <td>0.90</td>\n",
       "      <td>1.0</td>\n",
       "      <td>37.50</td>\n",
       "      <td>14</td>\n",
       "      <td>34.450</td>\n",
       "      <td>85.950</td>\n",
       "    </tr>\n",
       "    <tr>\n",
       "      <th>144687</th>\n",
       "      <td>1192.0</td>\n",
       "      <td>4.99</td>\n",
       "      <td>1.0</td>\n",
       "      <td>108.75</td>\n",
       "      <td>24</td>\n",
       "      <td>9.375</td>\n",
       "      <td>142.125</td>\n",
       "    </tr>\n",
       "    <tr>\n",
       "      <th>116885</th>\n",
       "      <td>661.0</td>\n",
       "      <td>2.85</td>\n",
       "      <td>1.0</td>\n",
       "      <td>71.25</td>\n",
       "      <td>0</td>\n",
       "      <td>26.625</td>\n",
       "      <td>97.875</td>\n",
       "    </tr>\n",
       "    <tr>\n",
       "      <th>61633</th>\n",
       "      <td>440.0</td>\n",
       "      <td>1.69</td>\n",
       "      <td>1.0</td>\n",
       "      <td>48.75</td>\n",
       "      <td>11</td>\n",
       "      <td>13.675</td>\n",
       "      <td>73.425</td>\n",
       "    </tr>\n",
       "    <tr>\n",
       "      <th>...</th>\n",
       "      <td>...</td>\n",
       "      <td>...</td>\n",
       "      <td>...</td>\n",
       "      <td>...</td>\n",
       "      <td>...</td>\n",
       "      <td>...</td>\n",
       "      <td>...</td>\n",
       "    </tr>\n",
       "    <tr>\n",
       "      <th>198309</th>\n",
       "      <td>837.0</td>\n",
       "      <td>3.75</td>\n",
       "      <td>1.0</td>\n",
       "      <td>82.50</td>\n",
       "      <td>0</td>\n",
       "      <td>6.000</td>\n",
       "      <td>88.500</td>\n",
       "    </tr>\n",
       "    <tr>\n",
       "      <th>66099</th>\n",
       "      <td>3820.0</td>\n",
       "      <td>10.86</td>\n",
       "      <td>1.0</td>\n",
       "      <td>292.50</td>\n",
       "      <td>0</td>\n",
       "      <td>34.125</td>\n",
       "      <td>326.625</td>\n",
       "    </tr>\n",
       "    <tr>\n",
       "      <th>78336</th>\n",
       "      <td>1448.0</td>\n",
       "      <td>6.76</td>\n",
       "      <td>1.0</td>\n",
       "      <td>131.25</td>\n",
       "      <td>0</td>\n",
       "      <td>9.750</td>\n",
       "      <td>141.000</td>\n",
       "    </tr>\n",
       "    <tr>\n",
       "      <th>56459</th>\n",
       "      <td>647.0</td>\n",
       "      <td>6.41</td>\n",
       "      <td>3.0</td>\n",
       "      <td>105.00</td>\n",
       "      <td>23</td>\n",
       "      <td>9.700</td>\n",
       "      <td>137.700</td>\n",
       "    </tr>\n",
       "    <tr>\n",
       "      <th>38594</th>\n",
       "      <td>1848.0</td>\n",
       "      <td>6.63</td>\n",
       "      <td>1.0</td>\n",
       "      <td>153.75</td>\n",
       "      <td>0</td>\n",
       "      <td>26.625</td>\n",
       "      <td>180.375</td>\n",
       "    </tr>\n",
       "  </tbody>\n",
       "</table>\n",
       "<p>133476 rows × 7 columns</p>\n",
       "</div>"
      ],
      "text/plain": [
       "        trip_duration  distance_traveled  num_of_passengers    fare  tip  \\\n",
       "173200          950.0               3.51                2.0   86.25   14   \n",
       "35286           268.0               0.90                1.0   37.50   14   \n",
       "144687         1192.0               4.99                1.0  108.75   24   \n",
       "116885          661.0               2.85                1.0   71.25    0   \n",
       "61633           440.0               1.69                1.0   48.75   11   \n",
       "...               ...                ...                ...     ...  ...   \n",
       "198309          837.0               3.75                1.0   82.50    0   \n",
       "66099          3820.0              10.86                1.0  292.50    0   \n",
       "78336          1448.0               6.76                1.0  131.25    0   \n",
       "56459           647.0               6.41                3.0  105.00   23   \n",
       "38594          1848.0               6.63                1.0  153.75    0   \n",
       "\n",
       "        miscellaneous_fees  total_fare  \n",
       "173200               5.800     106.050  \n",
       "35286               34.450      85.950  \n",
       "144687               9.375     142.125  \n",
       "116885              26.625      97.875  \n",
       "61633               13.675      73.425  \n",
       "...                    ...         ...  \n",
       "198309               6.000      88.500  \n",
       "66099               34.125     326.625  \n",
       "78336                9.750     141.000  \n",
       "56459                9.700     137.700  \n",
       "38594               26.625     180.375  \n",
       "\n",
       "[133476 rows x 7 columns]"
      ]
     },
     "execution_count": 26,
     "metadata": {},
     "output_type": "execute_result"
    }
   ],
   "source": [
    "x_train"
   ]
  },
  {
   "cell_type": "code",
   "execution_count": 27,
   "id": "5df8a5e9",
   "metadata": {},
   "outputs": [
    {
     "data": {
      "text/html": [
       "<div>\n",
       "<style scoped>\n",
       "    .dataframe tbody tr th:only-of-type {\n",
       "        vertical-align: middle;\n",
       "    }\n",
       "\n",
       "    .dataframe tbody tr th {\n",
       "        vertical-align: top;\n",
       "    }\n",
       "\n",
       "    .dataframe thead th {\n",
       "        text-align: right;\n",
       "    }\n",
       "</style>\n",
       "<table border=\"1\" class=\"dataframe\">\n",
       "  <thead>\n",
       "    <tr style=\"text-align: right;\">\n",
       "      <th></th>\n",
       "      <th>trip_duration</th>\n",
       "      <th>distance_traveled</th>\n",
       "      <th>num_of_passengers</th>\n",
       "      <th>fare</th>\n",
       "      <th>tip</th>\n",
       "      <th>miscellaneous_fees</th>\n",
       "      <th>total_fare</th>\n",
       "    </tr>\n",
       "  </thead>\n",
       "  <tbody>\n",
       "    <tr>\n",
       "      <th>13891</th>\n",
       "      <td>824.0</td>\n",
       "      <td>12.31</td>\n",
       "      <td>1.0</td>\n",
       "      <td>168.75</td>\n",
       "      <td>0</td>\n",
       "      <td>6.000</td>\n",
       "      <td>174.750</td>\n",
       "    </tr>\n",
       "    <tr>\n",
       "      <th>175139</th>\n",
       "      <td>2408.0</td>\n",
       "      <td>5.29</td>\n",
       "      <td>1.0</td>\n",
       "      <td>180.00</td>\n",
       "      <td>0</td>\n",
       "      <td>13.500</td>\n",
       "      <td>193.500</td>\n",
       "    </tr>\n",
       "    <tr>\n",
       "      <th>32101</th>\n",
       "      <td>538.0</td>\n",
       "      <td>2.46</td>\n",
       "      <td>5.0</td>\n",
       "      <td>60.00</td>\n",
       "      <td>0</td>\n",
       "      <td>6.000</td>\n",
       "      <td>66.000</td>\n",
       "    </tr>\n",
       "    <tr>\n",
       "      <th>158531</th>\n",
       "      <td>674.0</td>\n",
       "      <td>4.92</td>\n",
       "      <td>1.0</td>\n",
       "      <td>90.00</td>\n",
       "      <td>38</td>\n",
       "      <td>5.500</td>\n",
       "      <td>133.500</td>\n",
       "    </tr>\n",
       "    <tr>\n",
       "      <th>88767</th>\n",
       "      <td>1292.0</td>\n",
       "      <td>11.04</td>\n",
       "      <td>5.0</td>\n",
       "      <td>172.50</td>\n",
       "      <td>21</td>\n",
       "      <td>30.375</td>\n",
       "      <td>223.875</td>\n",
       "    </tr>\n",
       "    <tr>\n",
       "      <th>...</th>\n",
       "      <td>...</td>\n",
       "      <td>...</td>\n",
       "      <td>...</td>\n",
       "      <td>...</td>\n",
       "      <td>...</td>\n",
       "      <td>...</td>\n",
       "      <td>...</td>\n",
       "    </tr>\n",
       "    <tr>\n",
       "      <th>11242</th>\n",
       "      <td>488.0</td>\n",
       "      <td>2.82</td>\n",
       "      <td>1.0</td>\n",
       "      <td>63.75</td>\n",
       "      <td>0</td>\n",
       "      <td>34.125</td>\n",
       "      <td>97.875</td>\n",
       "    </tr>\n",
       "    <tr>\n",
       "      <th>175959</th>\n",
       "      <td>1270.0</td>\n",
       "      <td>5.33</td>\n",
       "      <td>1.0</td>\n",
       "      <td>120.00</td>\n",
       "      <td>15</td>\n",
       "      <td>6.000</td>\n",
       "      <td>141.000</td>\n",
       "    </tr>\n",
       "    <tr>\n",
       "      <th>86490</th>\n",
       "      <td>518.0</td>\n",
       "      <td>1.77</td>\n",
       "      <td>1.0</td>\n",
       "      <td>52.50</td>\n",
       "      <td>0</td>\n",
       "      <td>13.500</td>\n",
       "      <td>66.000</td>\n",
       "    </tr>\n",
       "    <tr>\n",
       "      <th>77881</th>\n",
       "      <td>3175.0</td>\n",
       "      <td>13.66</td>\n",
       "      <td>1.0</td>\n",
       "      <td>262.50</td>\n",
       "      <td>0</td>\n",
       "      <td>26.625</td>\n",
       "      <td>289.125</td>\n",
       "    </tr>\n",
       "    <tr>\n",
       "      <th>141753</th>\n",
       "      <td>961.0</td>\n",
       "      <td>6.49</td>\n",
       "      <td>1.0</td>\n",
       "      <td>108.75</td>\n",
       "      <td>27</td>\n",
       "      <td>26.700</td>\n",
       "      <td>162.450</td>\n",
       "    </tr>\n",
       "  </tbody>\n",
       "</table>\n",
       "<p>71872 rows × 7 columns</p>\n",
       "</div>"
      ],
      "text/plain": [
       "        trip_duration  distance_traveled  num_of_passengers    fare  tip  \\\n",
       "13891           824.0              12.31                1.0  168.75    0   \n",
       "175139         2408.0               5.29                1.0  180.00    0   \n",
       "32101           538.0               2.46                5.0   60.00    0   \n",
       "158531          674.0               4.92                1.0   90.00   38   \n",
       "88767          1292.0              11.04                5.0  172.50   21   \n",
       "...               ...                ...                ...     ...  ...   \n",
       "11242           488.0               2.82                1.0   63.75    0   \n",
       "175959         1270.0               5.33                1.0  120.00   15   \n",
       "86490           518.0               1.77                1.0   52.50    0   \n",
       "77881          3175.0              13.66                1.0  262.50    0   \n",
       "141753          961.0               6.49                1.0  108.75   27   \n",
       "\n",
       "        miscellaneous_fees  total_fare  \n",
       "13891                6.000     174.750  \n",
       "175139              13.500     193.500  \n",
       "32101                6.000      66.000  \n",
       "158531               5.500     133.500  \n",
       "88767               30.375     223.875  \n",
       "...                    ...         ...  \n",
       "11242               34.125      97.875  \n",
       "175959               6.000     141.000  \n",
       "86490               13.500      66.000  \n",
       "77881               26.625     289.125  \n",
       "141753              26.700     162.450  \n",
       "\n",
       "[71872 rows x 7 columns]"
      ]
     },
     "execution_count": 27,
     "metadata": {},
     "output_type": "execute_result"
    }
   ],
   "source": [
    "x_test"
   ]
  },
  {
   "cell_type": "code",
   "execution_count": 28,
   "id": "dd943ff5",
   "metadata": {},
   "outputs": [
    {
     "data": {
      "text/plain": [
       "173200    0\n",
       "35286     1\n",
       "144687    0\n",
       "116885    1\n",
       "61633     0\n",
       "         ..\n",
       "198309    0\n",
       "66099     1\n",
       "78336     0\n",
       "56459     0\n",
       "38594     1\n",
       "Name: surge_applied, Length: 133476, dtype: int64"
      ]
     },
     "execution_count": 28,
     "metadata": {},
     "output_type": "execute_result"
    }
   ],
   "source": [
    "y_train"
   ]
  },
  {
   "cell_type": "code",
   "execution_count": 29,
   "id": "64514921",
   "metadata": {},
   "outputs": [
    {
     "data": {
      "text/plain": [
       "13891     0\n",
       "175139    0\n",
       "32101     0\n",
       "158531    0\n",
       "88767     1\n",
       "         ..\n",
       "11242     1\n",
       "175959    0\n",
       "86490     0\n",
       "77881     1\n",
       "141753    1\n",
       "Name: surge_applied, Length: 71872, dtype: int64"
      ]
     },
     "execution_count": 29,
     "metadata": {},
     "output_type": "execute_result"
    }
   ],
   "source": [
    "y_test"
   ]
  },
  {
   "cell_type": "code",
   "execution_count": 30,
   "id": "19163566",
   "metadata": {},
   "outputs": [
    {
     "name": "stdout",
     "output_type": "stream",
     "text": [
      "(133476, 7)\n",
      "(71872, 7)\n",
      "(133476,)\n",
      "(71872,)\n"
     ]
    }
   ],
   "source": [
    "print(x_train.shape)\n",
    "print(x_test.shape)\n",
    "print(y_train.shape)\n",
    "print(y_test.shape)"
   ]
  },
  {
   "cell_type": "code",
   "execution_count": 31,
   "id": "e3f70ddc",
   "metadata": {},
   "outputs": [],
   "source": [
    "from sklearn.linear_model import LogisticRegression\n",
    "log=LogisticRegression()"
   ]
  },
  {
   "cell_type": "code",
   "execution_count": 32,
   "id": "c4c54ad1",
   "metadata": {},
   "outputs": [
    {
     "name": "stderr",
     "output_type": "stream",
     "text": [
      "C:\\ProgramData\\anaconda3\\lib\\site-packages\\sklearn\\linear_model\\_logistic.py:458: ConvergenceWarning: lbfgs failed to converge (status=1):\n",
      "STOP: TOTAL NO. of ITERATIONS REACHED LIMIT.\n",
      "\n",
      "Increase the number of iterations (max_iter) or scale the data as shown in:\n",
      "    https://scikit-learn.org/stable/modules/preprocessing.html\n",
      "Please also refer to the documentation for alternative solver options:\n",
      "    https://scikit-learn.org/stable/modules/linear_model.html#logistic-regression\n",
      "  n_iter_i = _check_optimize_result(\n"
     ]
    },
    {
     "data": {
      "text/html": [
       "<style>#sk-container-id-1 {color: black;background-color: white;}#sk-container-id-1 pre{padding: 0;}#sk-container-id-1 div.sk-toggleable {background-color: white;}#sk-container-id-1 label.sk-toggleable__label {cursor: pointer;display: block;width: 100%;margin-bottom: 0;padding: 0.3em;box-sizing: border-box;text-align: center;}#sk-container-id-1 label.sk-toggleable__label-arrow:before {content: \"▸\";float: left;margin-right: 0.25em;color: #696969;}#sk-container-id-1 label.sk-toggleable__label-arrow:hover:before {color: black;}#sk-container-id-1 div.sk-estimator:hover label.sk-toggleable__label-arrow:before {color: black;}#sk-container-id-1 div.sk-toggleable__content {max-height: 0;max-width: 0;overflow: hidden;text-align: left;background-color: #f0f8ff;}#sk-container-id-1 div.sk-toggleable__content pre {margin: 0.2em;color: black;border-radius: 0.25em;background-color: #f0f8ff;}#sk-container-id-1 input.sk-toggleable__control:checked~div.sk-toggleable__content {max-height: 200px;max-width: 100%;overflow: auto;}#sk-container-id-1 input.sk-toggleable__control:checked~label.sk-toggleable__label-arrow:before {content: \"▾\";}#sk-container-id-1 div.sk-estimator input.sk-toggleable__control:checked~label.sk-toggleable__label {background-color: #d4ebff;}#sk-container-id-1 div.sk-label input.sk-toggleable__control:checked~label.sk-toggleable__label {background-color: #d4ebff;}#sk-container-id-1 input.sk-hidden--visually {border: 0;clip: rect(1px 1px 1px 1px);clip: rect(1px, 1px, 1px, 1px);height: 1px;margin: -1px;overflow: hidden;padding: 0;position: absolute;width: 1px;}#sk-container-id-1 div.sk-estimator {font-family: monospace;background-color: #f0f8ff;border: 1px dotted black;border-radius: 0.25em;box-sizing: border-box;margin-bottom: 0.5em;}#sk-container-id-1 div.sk-estimator:hover {background-color: #d4ebff;}#sk-container-id-1 div.sk-parallel-item::after {content: \"\";width: 100%;border-bottom: 1px solid gray;flex-grow: 1;}#sk-container-id-1 div.sk-label:hover label.sk-toggleable__label {background-color: #d4ebff;}#sk-container-id-1 div.sk-serial::before {content: \"\";position: absolute;border-left: 1px solid gray;box-sizing: border-box;top: 0;bottom: 0;left: 50%;z-index: 0;}#sk-container-id-1 div.sk-serial {display: flex;flex-direction: column;align-items: center;background-color: white;padding-right: 0.2em;padding-left: 0.2em;position: relative;}#sk-container-id-1 div.sk-item {position: relative;z-index: 1;}#sk-container-id-1 div.sk-parallel {display: flex;align-items: stretch;justify-content: center;background-color: white;position: relative;}#sk-container-id-1 div.sk-item::before, #sk-container-id-1 div.sk-parallel-item::before {content: \"\";position: absolute;border-left: 1px solid gray;box-sizing: border-box;top: 0;bottom: 0;left: 50%;z-index: -1;}#sk-container-id-1 div.sk-parallel-item {display: flex;flex-direction: column;z-index: 1;position: relative;background-color: white;}#sk-container-id-1 div.sk-parallel-item:first-child::after {align-self: flex-end;width: 50%;}#sk-container-id-1 div.sk-parallel-item:last-child::after {align-self: flex-start;width: 50%;}#sk-container-id-1 div.sk-parallel-item:only-child::after {width: 0;}#sk-container-id-1 div.sk-dashed-wrapped {border: 1px dashed gray;margin: 0 0.4em 0.5em 0.4em;box-sizing: border-box;padding-bottom: 0.4em;background-color: white;}#sk-container-id-1 div.sk-label label {font-family: monospace;font-weight: bold;display: inline-block;line-height: 1.2em;}#sk-container-id-1 div.sk-label-container {text-align: center;}#sk-container-id-1 div.sk-container {/* jupyter's `normalize.less` sets `[hidden] { display: none; }` but bootstrap.min.css set `[hidden] { display: none !important; }` so we also need the `!important` here to be able to override the default hidden behavior on the sphinx rendered scikit-learn.org. See: https://github.com/scikit-learn/scikit-learn/issues/21755 */display: inline-block !important;position: relative;}#sk-container-id-1 div.sk-text-repr-fallback {display: none;}</style><div id=\"sk-container-id-1\" class=\"sk-top-container\"><div class=\"sk-text-repr-fallback\"><pre>LogisticRegression()</pre><b>In a Jupyter environment, please rerun this cell to show the HTML representation or trust the notebook. <br />On GitHub, the HTML representation is unable to render, please try loading this page with nbviewer.org.</b></div><div class=\"sk-container\" hidden><div class=\"sk-item\"><div class=\"sk-estimator sk-toggleable\"><input class=\"sk-toggleable__control sk-hidden--visually\" id=\"sk-estimator-id-1\" type=\"checkbox\" checked><label for=\"sk-estimator-id-1\" class=\"sk-toggleable__label sk-toggleable__label-arrow\">LogisticRegression</label><div class=\"sk-toggleable__content\"><pre>LogisticRegression()</pre></div></div></div></div></div>"
      ],
      "text/plain": [
       "LogisticRegression()"
      ]
     },
     "execution_count": 32,
     "metadata": {},
     "output_type": "execute_result"
    }
   ],
   "source": [
    "log.fit(x_train,y_train)"
   ]
  },
  {
   "cell_type": "code",
   "execution_count": 33,
   "id": "88527aea",
   "metadata": {},
   "outputs": [],
   "source": [
    "y_pred=log.predict(x_test)"
   ]
  },
  {
   "cell_type": "code",
   "execution_count": 34,
   "id": "2ac167c2",
   "metadata": {},
   "outputs": [
    {
     "data": {
      "text/plain": [
       "0.06339047195013357"
      ]
     },
     "execution_count": 34,
     "metadata": {},
     "output_type": "execute_result"
    }
   ],
   "source": [
    "from sklearn.metrics import mean_squared_error,r2_score\n",
    "mse=mean_squared_error(y_test,y_pred)\n",
    "mse"
   ]
  },
  {
   "cell_type": "code",
   "execution_count": 35,
   "id": "a4d4db33",
   "metadata": {},
   "outputs": [
    {
     "data": {
      "text/plain": [
       "0.2517746451693132"
      ]
     },
     "execution_count": 35,
     "metadata": {},
     "output_type": "execute_result"
    }
   ],
   "source": [
    "rmse=np.sqrt(mse)\n",
    "rmse"
   ]
  },
  {
   "cell_type": "code",
   "execution_count": 36,
   "id": "ab3b8d97",
   "metadata": {},
   "outputs": [
    {
     "data": {
      "text/plain": [
       "0.6895421062994933"
      ]
     },
     "execution_count": 36,
     "metadata": {},
     "output_type": "execute_result"
    }
   ],
   "source": [
    "r2=r2_score(y_test,y_pred)\n",
    "r2"
   ]
  },
  {
   "cell_type": "code",
   "execution_count": 37,
   "id": "74248251",
   "metadata": {
    "scrolled": true
   },
   "outputs": [
    {
     "data": {
      "text/plain": [
       "<Axes: xlabel='surge_applied', ylabel='count'>"
      ]
     },
     "execution_count": 37,
     "metadata": {},
     "output_type": "execute_result"
    },
    {
     "data": {
      "image/png": "[encoded data removed]",
      "text/plain": [
       "<Figure size 640x480 with 1 Axes>"
      ]
     },
     "metadata": {},
     "output_type": "display_data"
    }
   ],
   "source": [
    "sns.countplot(x=\"surge_applied\",data=df)"
   ]
  },
  {
   "cell_type": "markdown",
   "id": "45c2980a",
   "metadata": {},
   "source": [
    "# Matrix classifications\n",
    "\n",
    "* It includes f1_score,precision,recall,accuracy and confusion matrix"
   ]
  },
  {
   "cell_type": "code",
   "execution_count": 38,
   "id": "c31800c8",
   "metadata": {},
   "outputs": [],
   "source": [
    "from sklearn.metrics import f1_score,precision_score,recall_score,confusion_matrix,accuracy_score"
   ]
  },
  {
   "cell_type": "code",
   "execution_count": 39,
   "id": "53a3a164",
   "metadata": {},
   "outputs": [
    {
     "data": {
      "text/plain": [
       "0.8850017668736434"
      ]
     },
     "execution_count": 39,
     "metadata": {},
     "output_type": "execute_result"
    }
   ],
   "source": [
    "F1_score=f1_score(y_pred,y_test)\n",
    "F1_score"
   ]
  },
  {
   "cell_type": "code",
   "execution_count": 40,
   "id": "26e1a4dd",
   "metadata": {},
   "outputs": [
    {
     "data": {
      "text/plain": [
       "0.8530070066173608"
      ]
     },
     "execution_count": 40,
     "metadata": {},
     "output_type": "execute_result"
    }
   ],
   "source": [
    "precision=precision_score(y_pred,y_test)\n",
    "precision"
   ]
  },
  {
   "cell_type": "code",
   "execution_count": 41,
   "id": "6f170df6",
   "metadata": {},
   "outputs": [
    {
     "data": {
      "text/plain": [
       "0.9366095280498664"
      ]
     },
     "execution_count": 41,
     "metadata": {},
     "output_type": "execute_result"
    }
   ],
   "source": [
    "accuracy=accuracy_score(y_pred,y_test)\n",
    "accuracy"
   ]
  },
  {
   "cell_type": "code",
   "execution_count": 42,
   "id": "41b4e3d5",
   "metadata": {},
   "outputs": [
    {
     "data": {
      "text/plain": [
       "0.919490191964754"
      ]
     },
     "execution_count": 42,
     "metadata": {},
     "output_type": "execute_result"
    }
   ],
   "source": [
    "recall=recall_score(y_pred,y_test)\n",
    "recall"
   ]
  },
  {
   "cell_type": "markdown",
   "id": "58495f0a",
   "metadata": {},
   "source": [
    "# K-Nearest-Neighbors\n",
    "\n",
    "scaling the data,\n",
    "KNN classigication which gives the classification reprt for the same and also includes confusion matrix"
   ]
  },
  {
   "cell_type": "code",
   "execution_count": 43,
   "id": "8d90690a",
   "metadata": {},
   "outputs": [],
   "source": [
    "from sklearn.preprocessing import StandardScaler\n",
    "scaler=StandardScaler()\n",
    "scaler.fit(df.drop('surge_applied',axis=1))\n",
    "scaled=scaler.transform(df.drop('surge_applied',axis=1))\n",
    "scaleddf=pd.DataFrame(scaled,columns=df.columns[:-1])"
   ]
  },
  {
   "cell_type": "code",
   "execution_count": 44,
   "id": "b5749e2a",
   "metadata": {},
   "outputs": [
    {
     "data": {
      "text/plain": [
       "numpy.ndarray"
      ]
     },
     "execution_count": 44,
     "metadata": {},
     "output_type": "execute_result"
    }
   ],
   "source": [
    "type(scaled)"
   ]
  },
  {
   "cell_type": "code",
   "execution_count": 45,
   "id": "c77e711d",
   "metadata": {},
   "outputs": [
    {
     "data": {
      "text/html": [
       "<div>\n",
       "<style scoped>\n",
       "    .dataframe tbody tr th:only-of-type {\n",
       "        vertical-align: middle;\n",
       "    }\n",
       "\n",
       "    .dataframe tbody tr th {\n",
       "        vertical-align: top;\n",
       "    }\n",
       "\n",
       "    .dataframe thead th {\n",
       "        text-align: right;\n",
       "    }\n",
       "</style>\n",
       "<table border=\"1\" class=\"dataframe\">\n",
       "  <thead>\n",
       "    <tr style=\"text-align: right;\">\n",
       "      <th></th>\n",
       "      <th>trip_duration</th>\n",
       "      <th>distance_traveled</th>\n",
       "      <th>num_of_passengers</th>\n",
       "      <th>fare</th>\n",
       "      <th>tip</th>\n",
       "      <th>miscellaneous_fees</th>\n",
       "      <th>total_fare</th>\n",
       "    </tr>\n",
       "  </thead>\n",
       "  <tbody>\n",
       "    <tr>\n",
       "      <th>0</th>\n",
       "      <td>-0.091434</td>\n",
       "      <td>-0.018756</td>\n",
       "      <td>-0.317969</td>\n",
       "      <td>-0.297838</td>\n",
       "      <td>0.524309</td>\n",
       "      <td>-0.712620</td>\n",
       "      <td>-0.240710</td>\n",
       "    </tr>\n",
       "    <tr>\n",
       "      <th>1</th>\n",
       "      <td>-0.000436</td>\n",
       "      <td>-0.013382</td>\n",
       "      <td>-0.317969</td>\n",
       "      <td>0.050421</td>\n",
       "      <td>0.524309</td>\n",
       "      <td>-0.165937</td>\n",
       "      <td>0.130953</td>\n",
       "    </tr>\n",
       "    <tr>\n",
       "      <th>2</th>\n",
       "      <td>-0.095165</td>\n",
       "      <td>-0.015832</td>\n",
       "      <td>-0.317969</td>\n",
       "      <td>-0.341370</td>\n",
       "      <td>-0.645976</td>\n",
       "      <td>0.897718</td>\n",
       "      <td>-0.315496</td>\n",
       "    </tr>\n",
       "    <tr>\n",
       "      <th>3</th>\n",
       "      <td>-0.107394</td>\n",
       "      <td>0.004006</td>\n",
       "      <td>1.811377</td>\n",
       "      <td>-0.123708</td>\n",
       "      <td>-0.645976</td>\n",
       "      <td>-0.439278</td>\n",
       "      <td>-0.296611</td>\n",
       "    </tr>\n",
       "    <tr>\n",
       "      <th>4</th>\n",
       "      <td>-0.178286</td>\n",
       "      <td>-0.023972</td>\n",
       "      <td>-0.317969</td>\n",
       "      <td>-0.646097</td>\n",
       "      <td>-0.060833</td>\n",
       "      <td>-0.165937</td>\n",
       "      <td>-0.594244</td>\n",
       "    </tr>\n",
       "  </tbody>\n",
       "</table>\n",
       "</div>"
      ],
      "text/plain": [
       "   trip_duration  distance_traveled  num_of_passengers      fare       tip  \\\n",
       "0      -0.091434          -0.018756          -0.317969 -0.297838  0.524309   \n",
       "1      -0.000436          -0.013382          -0.317969  0.050421  0.524309   \n",
       "2      -0.095165          -0.015832          -0.317969 -0.341370 -0.645976   \n",
       "3      -0.107394           0.004006           1.811377 -0.123708 -0.645976   \n",
       "4      -0.178286          -0.023972          -0.317969 -0.646097 -0.060833   \n",
       "\n",
       "   miscellaneous_fees  total_fare  \n",
       "0           -0.712620   -0.240710  \n",
       "1           -0.165937    0.130953  \n",
       "2            0.897718   -0.315496  \n",
       "3           -0.439278   -0.296611  \n",
       "4           -0.165937   -0.594244  "
      ]
     },
     "execution_count": 45,
     "metadata": {},
     "output_type": "execute_result"
    }
   ],
   "source": [
    "scaleddf.head()"
   ]
  },
  {
   "cell_type": "code",
   "execution_count": 46,
   "id": "91310b69",
   "metadata": {},
   "outputs": [],
   "source": [
    "x=scaleddf\n",
    "y=df[\"surge_applied\"]"
   ]
  },
  {
   "cell_type": "code",
   "execution_count": 47,
   "id": "abf5be4a",
   "metadata": {},
   "outputs": [
    {
     "data": {
      "text/plain": [
       "(205348, 7)"
      ]
     },
     "execution_count": 47,
     "metadata": {},
     "output_type": "execute_result"
    }
   ],
   "source": [
    "scaleddf.shape"
   ]
  },
  {
   "cell_type": "code",
   "execution_count": 48,
   "id": "20af9412",
   "metadata": {},
   "outputs": [],
   "source": [
    "from sklearn.neighbors import KNeighborsClassifier\n",
    "err_rate=[]\n",
    "for i in range(1,40,2):\n",
    "    knn=KNeighborsClassifier(n_neighbors=i)\n",
    "    knn.fit(x_train,y_train)\n",
    "    pred_i=knn.predict(x_test)\n",
    "    err_rate.append(np.mean(pred_i!=y_test))"
   ]
  },
  {
   "cell_type": "code",
   "execution_count": 49,
   "id": "ff475b8a",
   "metadata": {},
   "outputs": [
    {
     "data": {
      "image/png": "[encoded data removed]",
      "text/plain": [
       "<Figure size 2000x1000 with 1 Axes>"
      ]
     },
     "metadata": {},
     "output_type": "display_data"
    }
   ],
   "source": [
    "plt.figure(figsize=(20,10))\n",
    "plt.plot(range(1,40,2),err_rate,color='blue',linestyle='dotted',marker='o',markerfacecolor='red',markersize=8)\n",
    "plt.title('K Values VS Error Rates')\n",
    "plt.xlabel('K Value')\n",
    "plt.ylabel('Error Rate')\n",
    "plt.show()"
   ]
  },
  {
   "cell_type": "code",
   "execution_count": 50,
   "id": "b6acee01",
   "metadata": {},
   "outputs": [
    {
     "data": {
      "text/html": [
       "<style>#sk-container-id-2 {color: black;background-color: white;}#sk-container-id-2 pre{padding: 0;}#sk-container-id-2 div.sk-toggleable {background-color: white;}#sk-container-id-2 label.sk-toggleable__label {cursor: pointer;display: block;width: 100%;margin-bottom: 0;padding: 0.3em;box-sizing: border-box;text-align: center;}#sk-container-id-2 label.sk-toggleable__label-arrow:before {content: \"▸\";float: left;margin-right: 0.25em;color: #696969;}#sk-container-id-2 label.sk-toggleable__label-arrow:hover:before {color: black;}#sk-container-id-2 div.sk-estimator:hover label.sk-toggleable__label-arrow:before {color: black;}#sk-container-id-2 div.sk-toggleable__content {max-height: 0;max-width: 0;overflow: hidden;text-align: left;background-color: #f0f8ff;}#sk-container-id-2 div.sk-toggleable__content pre {margin: 0.2em;color: black;border-radius: 0.25em;background-color: #f0f8ff;}#sk-container-id-2 input.sk-toggleable__control:checked~div.sk-toggleable__content {max-height: 200px;max-width: 100%;overflow: auto;}#sk-container-id-2 input.sk-toggleable__control:checked~label.sk-toggleable__label-arrow:before {content: \"▾\";}#sk-container-id-2 div.sk-estimator input.sk-toggleable__control:checked~label.sk-toggleable__label {background-color: #d4ebff;}#sk-container-id-2 div.sk-label input.sk-toggleable__control:checked~label.sk-toggleable__label {background-color: #d4ebff;}#sk-container-id-2 input.sk-hidden--visually {border: 0;clip: rect(1px 1px 1px 1px);clip: rect(1px, 1px, 1px, 1px);height: 1px;margin: -1px;overflow: hidden;padding: 0;position: absolute;width: 1px;}#sk-container-id-2 div.sk-estimator {font-family: monospace;background-color: #f0f8ff;border: 1px dotted black;border-radius: 0.25em;box-sizing: border-box;margin-bottom: 0.5em;}#sk-container-id-2 div.sk-estimator:hover {background-color: #d4ebff;}#sk-container-id-2 div.sk-parallel-item::after {content: \"\";width: 100%;border-bottom: 1px solid gray;flex-grow: 1;}#sk-container-id-2 div.sk-label:hover label.sk-toggleable__label {background-color: #d4ebff;}#sk-container-id-2 div.sk-serial::before {content: \"\";position: absolute;border-left: 1px solid gray;box-sizing: border-box;top: 0;bottom: 0;left: 50%;z-index: 0;}#sk-container-id-2 div.sk-serial {display: flex;flex-direction: column;align-items: center;background-color: white;padding-right: 0.2em;padding-left: 0.2em;position: relative;}#sk-container-id-2 div.sk-item {position: relative;z-index: 1;}#sk-container-id-2 div.sk-parallel {display: flex;align-items: stretch;justify-content: center;background-color: white;position: relative;}#sk-container-id-2 div.sk-item::before, #sk-container-id-2 div.sk-parallel-item::before {content: \"\";position: absolute;border-left: 1px solid gray;box-sizing: border-box;top: 0;bottom: 0;left: 50%;z-index: -1;}#sk-container-id-2 div.sk-parallel-item {display: flex;flex-direction: column;z-index: 1;position: relative;background-color: white;}#sk-container-id-2 div.sk-parallel-item:first-child::after {align-self: flex-end;width: 50%;}#sk-container-id-2 div.sk-parallel-item:last-child::after {align-self: flex-start;width: 50%;}#sk-container-id-2 div.sk-parallel-item:only-child::after {width: 0;}#sk-container-id-2 div.sk-dashed-wrapped {border: 1px dashed gray;margin: 0 0.4em 0.5em 0.4em;box-sizing: border-box;padding-bottom: 0.4em;background-color: white;}#sk-container-id-2 div.sk-label label {font-family: monospace;font-weight: bold;display: inline-block;line-height: 1.2em;}#sk-container-id-2 div.sk-label-container {text-align: center;}#sk-container-id-2 div.sk-container {/* jupyter's `normalize.less` sets `[hidden] { display: none; }` but bootstrap.min.css set `[hidden] { display: none !important; }` so we also need the `!important` here to be able to override the default hidden behavior on the sphinx rendered scikit-learn.org. See: https://github.com/scikit-learn/scikit-learn/issues/21755 */display: inline-block !important;position: relative;}#sk-container-id-2 div.sk-text-repr-fallback {display: none;}</style><div id=\"sk-container-id-2\" class=\"sk-top-container\"><div class=\"sk-text-repr-fallback\"><pre>KNeighborsClassifier(n_neighbors=22)</pre><b>In a Jupyter environment, please rerun this cell to show the HTML representation or trust the notebook. <br />On GitHub, the HTML representation is unable to render, please try loading this page with nbviewer.org.</b></div><div class=\"sk-container\" hidden><div class=\"sk-item\"><div class=\"sk-estimator sk-toggleable\"><input class=\"sk-toggleable__control sk-hidden--visually\" id=\"sk-estimator-id-2\" type=\"checkbox\" checked><label for=\"sk-estimator-id-2\" class=\"sk-toggleable__label sk-toggleable__label-arrow\">KNeighborsClassifier</label><div class=\"sk-toggleable__content\"><pre>KNeighborsClassifier(n_neighbors=22)</pre></div></div></div></div></div>"
      ],
      "text/plain": [
       "KNeighborsClassifier(n_neighbors=22)"
      ]
     },
     "execution_count": 50,
     "metadata": {},
     "output_type": "execute_result"
    }
   ],
   "source": [
    "knn = KNeighborsClassifier(n_neighbors=22)\n",
    "knn.fit(X,y)"
   ]
  },
  {
   "cell_type": "code",
   "execution_count": 51,
   "id": "975295ea",
   "metadata": {},
   "outputs": [],
   "source": [
    "pred = knn.predict(x_test)"
   ]
  },
  {
   "cell_type": "code",
   "execution_count": 52,
   "id": "3ec1153a",
   "metadata": {},
   "outputs": [
    {
     "name": "stdout",
     "output_type": "stream",
     "text": [
      "              precision    recall  f1-score   support\n",
      "\n",
      "           0       0.98      0.99      0.99     51320\n",
      "           1       0.97      0.96      0.97     20552\n",
      "\n",
      "    accuracy                           0.98     71872\n",
      "   macro avg       0.98      0.98      0.98     71872\n",
      "weighted avg       0.98      0.98      0.98     71872\n",
      "\n"
     ]
    }
   ],
   "source": [
    "from sklearn.metrics import classification_report\n",
    "print(classification_report(y_test,pred))"
   ]
  },
  {
   "cell_type": "code",
   "execution_count": 53,
   "id": "4996b925",
   "metadata": {},
   "outputs": [
    {
     "name": "stdout",
     "output_type": "stream",
     "text": [
      "[[50736   584]\n",
      " [  793 19759]]\n"
     ]
    }
   ],
   "source": [
    "from sklearn.metrics import confusion_matrix\n",
    "print(confusion_matrix(y_test,pred))"
   ]
  },
  {
   "cell_type": "code",
   "execution_count": 54,
   "id": "c95547a7",
   "metadata": {},
   "outputs": [
    {
     "name": "stdout",
     "output_type": "stream",
     "text": [
      "Best Score:0.9860918990146599\n",
      "Best Parameters: {'n_neighbors': 1}\n"
     ]
    }
   ],
   "source": [
    "from sklearn.model_selection import GridSearchCV\n",
    "param_grid = {'n_neighbors':np.arange(1,50)}\n",
    "knn = KNeighborsClassifier()\n",
    "knn_cv= GridSearchCV(knn,param_grid,cv=5)\n",
    "knn_cv.fit(X,y)\n",
    "print(\"Best Score:\" + str(knn_cv.best_score_)) \n",
    "print(\"Best Parameters: \" + str(knn_cv.best_params_))"
   ]
  },
  {
   "cell_type": "markdown",
   "id": "b2601819",
   "metadata": {},
   "source": [
    "# Decision Tree\n",
    "\n",
    "It represents a decision tree wrt columns present in the dataset"
   ]
  },
  {
   "cell_type": "code",
   "execution_count": 55,
   "id": "d80ba45c",
   "metadata": {},
   "outputs": [
    {
     "data": {
      "text/html": [
       "<style>#sk-container-id-3 {color: black;background-color: white;}#sk-container-id-3 pre{padding: 0;}#sk-container-id-3 div.sk-toggleable {background-color: white;}#sk-container-id-3 label.sk-toggleable__label {cursor: pointer;display: block;width: 100%;margin-bottom: 0;padding: 0.3em;box-sizing: border-box;text-align: center;}#sk-container-id-3 label.sk-toggleable__label-arrow:before {content: \"▸\";float: left;margin-right: 0.25em;color: #696969;}#sk-container-id-3 label.sk-toggleable__label-arrow:hover:before {color: black;}#sk-container-id-3 div.sk-estimator:hover label.sk-toggleable__label-arrow:before {color: black;}#sk-container-id-3 div.sk-toggleable__content {max-height: 0;max-width: 0;overflow: hidden;text-align: left;background-color: #f0f8ff;}#sk-container-id-3 div.sk-toggleable__content pre {margin: 0.2em;color: black;border-radius: 0.25em;background-color: #f0f8ff;}#sk-container-id-3 input.sk-toggleable__control:checked~div.sk-toggleable__content {max-height: 200px;max-width: 100%;overflow: auto;}#sk-container-id-3 input.sk-toggleable__control:checked~label.sk-toggleable__label-arrow:before {content: \"▾\";}#sk-container-id-3 div.sk-estimator input.sk-toggleable__control:checked~label.sk-toggleable__label {background-color: #d4ebff;}#sk-container-id-3 div.sk-label input.sk-toggleable__control:checked~label.sk-toggleable__label {background-color: #d4ebff;}#sk-container-id-3 input.sk-hidden--visually {border: 0;clip: rect(1px 1px 1px 1px);clip: rect(1px, 1px, 1px, 1px);height: 1px;margin: -1px;overflow: hidden;padding: 0;position: absolute;width: 1px;}#sk-container-id-3 div.sk-estimator {font-family: monospace;background-color: #f0f8ff;border: 1px dotted black;border-radius: 0.25em;box-sizing: border-box;margin-bottom: 0.5em;}#sk-container-id-3 div.sk-estimator:hover {background-color: #d4ebff;}#sk-container-id-3 div.sk-parallel-item::after {content: \"\";width: 100%;border-bottom: 1px solid gray;flex-grow: 1;}#sk-container-id-3 div.sk-label:hover label.sk-toggleable__label {background-color: #d4ebff;}#sk-container-id-3 div.sk-serial::before {content: \"\";position: absolute;border-left: 1px solid gray;box-sizing: border-box;top: 0;bottom: 0;left: 50%;z-index: 0;}#sk-container-id-3 div.sk-serial {display: flex;flex-direction: column;align-items: center;background-color: white;padding-right: 0.2em;padding-left: 0.2em;position: relative;}#sk-container-id-3 div.sk-item {position: relative;z-index: 1;}#sk-container-id-3 div.sk-parallel {display: flex;align-items: stretch;justify-content: center;background-color: white;position: relative;}#sk-container-id-3 div.sk-item::before, #sk-container-id-3 div.sk-parallel-item::before {content: \"\";position: absolute;border-left: 1px solid gray;box-sizing: border-box;top: 0;bottom: 0;left: 50%;z-index: -1;}#sk-container-id-3 div.sk-parallel-item {display: flex;flex-direction: column;z-index: 1;position: relative;background-color: white;}#sk-container-id-3 div.sk-parallel-item:first-child::after {align-self: flex-end;width: 50%;}#sk-container-id-3 div.sk-parallel-item:last-child::after {align-self: flex-start;width: 50%;}#sk-container-id-3 div.sk-parallel-item:only-child::after {width: 0;}#sk-container-id-3 div.sk-dashed-wrapped {border: 1px dashed gray;margin: 0 0.4em 0.5em 0.4em;box-sizing: border-box;padding-bottom: 0.4em;background-color: white;}#sk-container-id-3 div.sk-label label {font-family: monospace;font-weight: bold;display: inline-block;line-height: 1.2em;}#sk-container-id-3 div.sk-label-container {text-align: center;}#sk-container-id-3 div.sk-container {/* jupyter's `normalize.less` sets `[hidden] { display: none; }` but bootstrap.min.css set `[hidden] { display: none !important; }` so we also need the `!important` here to be able to override the default hidden behavior on the sphinx rendered scikit-learn.org. See: https://github.com/scikit-learn/scikit-learn/issues/21755 */display: inline-block !important;position: relative;}#sk-container-id-3 div.sk-text-repr-fallback {display: none;}</style><div id=\"sk-container-id-3\" class=\"sk-top-container\"><div class=\"sk-text-repr-fallback\"><pre>DecisionTreeClassifier(max_depth=3, min_samples_leaf=5, min_samples_split=7,\n",
       "                       random_state=0)</pre><b>In a Jupyter environment, please rerun this cell to show the HTML representation or trust the notebook. <br />On GitHub, the HTML representation is unable to render, please try loading this page with nbviewer.org.</b></div><div class=\"sk-container\" hidden><div class=\"sk-item\"><div class=\"sk-estimator sk-toggleable\"><input class=\"sk-toggleable__control sk-hidden--visually\" id=\"sk-estimator-id-3\" type=\"checkbox\" checked><label for=\"sk-estimator-id-3\" class=\"sk-toggleable__label sk-toggleable__label-arrow\">DecisionTreeClassifier</label><div class=\"sk-toggleable__content\"><pre>DecisionTreeClassifier(max_depth=3, min_samples_leaf=5, min_samples_split=7,\n",
       "                       random_state=0)</pre></div></div></div></div></div>"
      ],
      "text/plain": [
       "DecisionTreeClassifier(max_depth=3, min_samples_leaf=5, min_samples_split=7,\n",
       "                       random_state=0)"
      ]
     },
     "execution_count": 55,
     "metadata": {},
     "output_type": "execute_result"
    }
   ],
   "source": [
    "from sklearn.tree import DecisionTreeClassifier\n",
    "#prunning\n",
    "DC=DecisionTreeClassifier(criterion='gini',max_depth=3,min_samples_leaf=5,min_samples_split=7,random_state=0)\n",
    "DC.fit(x_train,y_train)"
   ]
  },
  {
   "cell_type": "code",
   "execution_count": 56,
   "id": "dd7124b8",
   "metadata": {},
   "outputs": [
    {
     "data": {
      "text/plain": [
       "array([0, 0, 0, ..., 0, 1, 1], dtype=int64)"
      ]
     },
     "execution_count": 56,
     "metadata": {},
     "output_type": "execute_result"
    }
   ],
   "source": [
    "DC_pred=DC.predict(x_test)\n",
    "DC_pred"
   ]
  },
  {
   "cell_type": "markdown",
   "id": "8bb0d18b",
   "metadata": {},
   "source": [
    "#### Classification report printing"
   ]
  },
  {
   "cell_type": "code",
   "execution_count": 57,
   "id": "7a4d3e9e",
   "metadata": {},
   "outputs": [],
   "source": [
    "from sklearn.metrics import classification_report,accuracy_score,confusion_matrix"
   ]
  },
  {
   "cell_type": "code",
   "execution_count": 58,
   "id": "3ec5787b",
   "metadata": {},
   "outputs": [
    {
     "name": "stdout",
     "output_type": "stream",
     "text": [
      "0.9963963713268033\n"
     ]
    }
   ],
   "source": [
    "print(accuracy_score(y_test,DC_pred))"
   ]
  },
  {
   "cell_type": "code",
   "execution_count": 59,
   "id": "6b563429",
   "metadata": {},
   "outputs": [
    {
     "name": "stdout",
     "output_type": "stream",
     "text": [
      "              precision    recall  f1-score   support\n",
      "\n",
      "           0       1.00      1.00      1.00     51320\n",
      "           1       0.99      1.00      0.99     20552\n",
      "\n",
      "    accuracy                           1.00     71872\n",
      "   macro avg       0.99      1.00      1.00     71872\n",
      "weighted avg       1.00      1.00      1.00     71872\n",
      "\n"
     ]
    }
   ],
   "source": [
    "print(classification_report(y_test,DC_pred))"
   ]
  },
  {
   "cell_type": "code",
   "execution_count": 60,
   "id": "47985ea4",
   "metadata": {},
   "outputs": [
    {
     "data": {
      "text/plain": [
       "[Text(0.375, 0.875, 'x[5] <= 21.75\\ngini = 0.408\\nsamples = 133476\\nvalue = [95339, 38137]'),\n",
       " Text(0.25, 0.625, 'gini = 0.0\\nsamples = 92528\\nvalue = [92528, 0]'),\n",
       " Text(0.5, 0.625, 'x[5] <= 34.938\\ngini = 0.128\\nsamples = 40948\\nvalue = [2811, 38137]'),\n",
       " Text(0.25, 0.375, 'x[1] <= 32.99\\ngini = 0.009\\nsamples = 37692\\nvalue = [177, 37515]'),\n",
       " Text(0.125, 0.125, 'gini = 0.009\\nsamples = 37666\\nvalue = [169, 37497]'),\n",
       " Text(0.375, 0.125, 'gini = 0.426\\nsamples = 26\\nvalue = [8, 18]'),\n",
       " Text(0.75, 0.375, 'x[5] <= 70.075\\ngini = 0.309\\nsamples = 3256\\nvalue = [2634, 622]'),\n",
       " Text(0.625, 0.125, 'gini = 0.031\\nsamples = 2455\\nvalue = [2416, 39]'),\n",
       " Text(0.875, 0.125, 'gini = 0.396\\nsamples = 801\\nvalue = [218, 583]')]"
      ]
     },
     "execution_count": 60,
     "metadata": {},
     "output_type": "execute_result"
    },
    {
     "data": {
      "image/png": "[encoded data removed]",
      "text/plain": [
       "<Figure size 640x480 with 1 Axes>"
      ]
     },
     "metadata": {},
     "output_type": "display_data"
    }
   ],
   "source": [
    "#  plt.figure(figsize=(12,10))\n",
    "from sklearn import tree\n",
    "tree.plot_tree(DC.fit(x_train,y_train))"
   ]
  },
  {
   "cell_type": "code",
   "execution_count": 61,
   "id": "46b42dfb",
   "metadata": {},
   "outputs": [
    {
     "data": {
      "text/html": [
       "<style>#sk-container-id-4 {color: black;background-color: white;}#sk-container-id-4 pre{padding: 0;}#sk-container-id-4 div.sk-toggleable {background-color: white;}#sk-container-id-4 label.sk-toggleable__label {cursor: pointer;display: block;width: 100%;margin-bottom: 0;padding: 0.3em;box-sizing: border-box;text-align: center;}#sk-container-id-4 label.sk-toggleable__label-arrow:before {content: \"▸\";float: left;margin-right: 0.25em;color: #696969;}#sk-container-id-4 label.sk-toggleable__label-arrow:hover:before {color: black;}#sk-container-id-4 div.sk-estimator:hover label.sk-toggleable__label-arrow:before {color: black;}#sk-container-id-4 div.sk-toggleable__content {max-height: 0;max-width: 0;overflow: hidden;text-align: left;background-color: #f0f8ff;}#sk-container-id-4 div.sk-toggleable__content pre {margin: 0.2em;color: black;border-radius: 0.25em;background-color: #f0f8ff;}#sk-container-id-4 input.sk-toggleable__control:checked~div.sk-toggleable__content {max-height: 200px;max-width: 100%;overflow: auto;}#sk-container-id-4 input.sk-toggleable__control:checked~label.sk-toggleable__label-arrow:before {content: \"▾\";}#sk-container-id-4 div.sk-estimator input.sk-toggleable__control:checked~label.sk-toggleable__label {background-color: #d4ebff;}#sk-container-id-4 div.sk-label input.sk-toggleable__control:checked~label.sk-toggleable__label {background-color: #d4ebff;}#sk-container-id-4 input.sk-hidden--visually {border: 0;clip: rect(1px 1px 1px 1px);clip: rect(1px, 1px, 1px, 1px);height: 1px;margin: -1px;overflow: hidden;padding: 0;position: absolute;width: 1px;}#sk-container-id-4 div.sk-estimator {font-family: monospace;background-color: #f0f8ff;border: 1px dotted black;border-radius: 0.25em;box-sizing: border-box;margin-bottom: 0.5em;}#sk-container-id-4 div.sk-estimator:hover {background-color: #d4ebff;}#sk-container-id-4 div.sk-parallel-item::after {content: \"\";width: 100%;border-bottom: 1px solid gray;flex-grow: 1;}#sk-container-id-4 div.sk-label:hover label.sk-toggleable__label {background-color: #d4ebff;}#sk-container-id-4 div.sk-serial::before {content: \"\";position: absolute;border-left: 1px solid gray;box-sizing: border-box;top: 0;bottom: 0;left: 50%;z-index: 0;}#sk-container-id-4 div.sk-serial {display: flex;flex-direction: column;align-items: center;background-color: white;padding-right: 0.2em;padding-left: 0.2em;position: relative;}#sk-container-id-4 div.sk-item {position: relative;z-index: 1;}#sk-container-id-4 div.sk-parallel {display: flex;align-items: stretch;justify-content: center;background-color: white;position: relative;}#sk-container-id-4 div.sk-item::before, #sk-container-id-4 div.sk-parallel-item::before {content: \"\";position: absolute;border-left: 1px solid gray;box-sizing: border-box;top: 0;bottom: 0;left: 50%;z-index: -1;}#sk-container-id-4 div.sk-parallel-item {display: flex;flex-direction: column;z-index: 1;position: relative;background-color: white;}#sk-container-id-4 div.sk-parallel-item:first-child::after {align-self: flex-end;width: 50%;}#sk-container-id-4 div.sk-parallel-item:last-child::after {align-self: flex-start;width: 50%;}#sk-container-id-4 div.sk-parallel-item:only-child::after {width: 0;}#sk-container-id-4 div.sk-dashed-wrapped {border: 1px dashed gray;margin: 0 0.4em 0.5em 0.4em;box-sizing: border-box;padding-bottom: 0.4em;background-color: white;}#sk-container-id-4 div.sk-label label {font-family: monospace;font-weight: bold;display: inline-block;line-height: 1.2em;}#sk-container-id-4 div.sk-label-container {text-align: center;}#sk-container-id-4 div.sk-container {/* jupyter's `normalize.less` sets `[hidden] { display: none; }` but bootstrap.min.css set `[hidden] { display: none !important; }` so we also need the `!important` here to be able to override the default hidden behavior on the sphinx rendered scikit-learn.org. See: https://github.com/scikit-learn/scikit-learn/issues/21755 */display: inline-block !important;position: relative;}#sk-container-id-4 div.sk-text-repr-fallback {display: none;}</style><div id=\"sk-container-id-4\" class=\"sk-top-container\"><div class=\"sk-text-repr-fallback\"><pre>DecisionTreeClassifier(criterion=&#x27;entropy&#x27;, max_depth=3, min_samples_leaf=5,\n",
       "                       min_samples_split=7, random_state=0)</pre><b>In a Jupyter environment, please rerun this cell to show the HTML representation or trust the notebook. <br />On GitHub, the HTML representation is unable to render, please try loading this page with nbviewer.org.</b></div><div class=\"sk-container\" hidden><div class=\"sk-item\"><div class=\"sk-estimator sk-toggleable\"><input class=\"sk-toggleable__control sk-hidden--visually\" id=\"sk-estimator-id-4\" type=\"checkbox\" checked><label for=\"sk-estimator-id-4\" class=\"sk-toggleable__label sk-toggleable__label-arrow\">DecisionTreeClassifier</label><div class=\"sk-toggleable__content\"><pre>DecisionTreeClassifier(criterion=&#x27;entropy&#x27;, max_depth=3, min_samples_leaf=5,\n",
       "                       min_samples_split=7, random_state=0)</pre></div></div></div></div></div>"
      ],
      "text/plain": [
       "DecisionTreeClassifier(criterion='entropy', max_depth=3, min_samples_leaf=5,\n",
       "                       min_samples_split=7, random_state=0)"
      ]
     },
     "execution_count": 61,
     "metadata": {},
     "output_type": "execute_result"
    }
   ],
   "source": [
    "DC=DecisionTreeClassifier(criterion='entropy',max_depth=3,min_samples_leaf=5,min_samples_split=7,random_state=0)\n",
    "DC.fit(x_train,y_train)"
   ]
  },
  {
   "cell_type": "code",
   "execution_count": 62,
   "id": "7eab6cd8",
   "metadata": {},
   "outputs": [
    {
     "data": {
      "text/plain": [
       "array([0, 0, 0, ..., 0, 1, 1], dtype=int64)"
      ]
     },
     "execution_count": 62,
     "metadata": {},
     "output_type": "execute_result"
    }
   ],
   "source": [
    "DC_pred=DC.predict(x_test)\n",
    "DC_pred"
   ]
  },
  {
   "cell_type": "code",
   "execution_count": 63,
   "id": "f01978c8",
   "metadata": {},
   "outputs": [
    {
     "name": "stdout",
     "output_type": "stream",
     "text": [
      "0.9963963713268033\n"
     ]
    }
   ],
   "source": [
    "print(accuracy_score(y_test,DC_pred))"
   ]
  },
  {
   "cell_type": "code",
   "execution_count": 64,
   "id": "5a8b4090",
   "metadata": {},
   "outputs": [
    {
     "name": "stdout",
     "output_type": "stream",
     "text": [
      "[[51096   224]\n",
      " [   35 20517]]\n"
     ]
    }
   ],
   "source": [
    "print(confusion_matrix(y_test,DC_pred))"
   ]
  },
  {
   "cell_type": "code",
   "execution_count": 65,
   "id": "b8a06d1f",
   "metadata": {},
   "outputs": [
    {
     "name": "stdout",
     "output_type": "stream",
     "text": [
      "              precision    recall  f1-score   support\n",
      "\n",
      "           0       1.00      1.00      1.00     51320\n",
      "           1       0.99      1.00      0.99     20552\n",
      "\n",
      "    accuracy                           1.00     71872\n",
      "   macro avg       0.99      1.00      1.00     71872\n",
      "weighted avg       1.00      1.00      1.00     71872\n",
      "\n"
     ]
    }
   ],
   "source": [
    "print(classification_report(y_test,DC_pred))"
   ]
  },
  {
   "cell_type": "code",
   "execution_count": 66,
   "id": "cd3e4772",
   "metadata": {},
   "outputs": [
    {
     "data": {
      "text/plain": [
       "[Text(0.375, 0.875, 'x[5] <= 21.75\\nentropy = 0.863\\nsamples = 133476\\nvalue = [95339, 38137]'),\n",
       " Text(0.25, 0.625, 'entropy = 0.0\\nsamples = 92528\\nvalue = [92528, 0]'),\n",
       " Text(0.5, 0.625, 'x[5] <= 34.938\\nentropy = 0.361\\nsamples = 40948\\nvalue = [2811, 38137]'),\n",
       " Text(0.25, 0.375, 'x[1] <= 5.625\\nentropy = 0.043\\nsamples = 37692\\nvalue = [177, 37515]'),\n",
       " Text(0.125, 0.125, 'entropy = 0.008\\nsamples = 22509\\nvalue = [15, 22494]'),\n",
       " Text(0.375, 0.125, 'entropy = 0.085\\nsamples = 15183\\nvalue = [162, 15021]'),\n",
       " Text(0.75, 0.375, 'x[5] <= 70.075\\nentropy = 0.704\\nsamples = 3256\\nvalue = [2634, 622]'),\n",
       " Text(0.625, 0.125, 'entropy = 0.118\\nsamples = 2455\\nvalue = [2416, 39]'),\n",
       " Text(0.875, 0.125, 'entropy = 0.845\\nsamples = 801\\nvalue = [218, 583]')]"
      ]
     },
     "execution_count": 66,
     "metadata": {},
     "output_type": "execute_result"
    },
    {
     "data": {
      "image/png": "[encoded data removed]",
      "text/plain": [
       "<Figure size 1200x1000 with 1 Axes>"
      ]
     },
     "metadata": {},
     "output_type": "display_data"
    }
   ],
   "source": [
    "plt.figure(figsize=(12,10))\n",
    "from sklearn import tree\n",
    "tree.plot_tree(DC.fit(x_train,y_train))"
   ]
  },
  {
   "cell_type": "code",
   "execution_count": null,
   "id": "97b69909",
   "metadata": {},
   "outputs": [],
   "source": []
  }
 ],
 "metadata": {
  "kernelspec": {
   "display_name": "Python 3 (ipykernel)",
   "language": "python",
   "name": "python3"
  },
  "language_info": {
   "codemirror_mode": {
    "name": "ipython",
    "version": 3
   },
   "file_extension": ".py",
   "mimetype": "text/x-python",
   "name": "python",
   "nbconvert_exporter": "python",
   "pygments_lexer": "ipython3",
   "version": "3.10.9"
  }
 },
 "nbformat": 4,
 "nbformat_minor": 5
}
